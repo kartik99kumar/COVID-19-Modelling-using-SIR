{
 "cells": [
  {
   "cell_type": "code",
   "execution_count": 204,
   "metadata": {},
   "outputs": [
    {
     "name": "stdout",
     "output_type": "stream",
     "text": [
      "Defaulting to user installation because normal site-packages is not writeable\n",
      "Requirement already satisfied: mpld3 in /home/kartik/.local/lib/python3.7/site-packages (0.3)\n",
      "Defaulting to user installation because normal site-packages is not writeable\n",
      "Requirement already satisfied: lmfit in /home/kartik/.local/lib/python3.7/site-packages (1.0.1)\n",
      "Requirement already satisfied: asteval>=0.9.16 in /home/kartik/.local/lib/python3.7/site-packages (from lmfit) (0.9.18)\n",
      "Requirement already satisfied: uncertainties>=3.0.1 in /home/kartik/.local/lib/python3.7/site-packages (from lmfit) (3.1.2)\n",
      "Requirement already satisfied: scipy>=1.2 in /home/kartik/.local/lib/python3.7/site-packages (from lmfit) (1.4.1)\n",
      "Requirement already satisfied: numpy>=1.16 in /usr/lib/python3/dist-packages (from lmfit) (1.16.2)\n"
     ]
    }
   ],
   "source": [
    "#Import Libraries\n",
    "\n",
    "from scipy.integrate import odeint\n",
    "import numpy as np\n",
    "import matplotlib.pyplot as plt\n",
    "%matplotlib inline \n",
    "!pip install mpld3\n",
    "import mpld3\n",
    "mpld3.enable_notebook()\n",
    "import pandas as pd\n",
    "!pip install lmfit\n",
    "import lmfit"
   ]
  },
  {
   "cell_type": "markdown",
   "metadata": {},
   "source": [
    "### Plotting the SEIRD Model "
   ]
  },
  {
   "cell_type": "code",
   "execution_count": 205,
   "metadata": {},
   "outputs": [
    {
     "data": {
      "text/html": [
       "\n",
       "\n",
       "<style>\n",
       "\n",
       "</style>\n",
       "\n",
       "<div id=\"fig_el131181406664002413609100416900\"></div>\n",
       "<script>\n",
       "function mpld3_load_lib(url, callback){\n",
       "  var s = document.createElement('script');\n",
       "  s.src = url;\n",
       "  s.async = true;\n",
       "  s.onreadystatechange = s.onload = callback;\n",
       "  s.onerror = function(){console.warn(\"failed to load library \" + url);};\n",
       "  document.getElementsByTagName(\"head\")[0].appendChild(s);\n",
       "}\n",
       "\n",
       "if(typeof(mpld3) !== \"undefined\" && mpld3._mpld3IsLoaded){\n",
       "   // already loaded: just create the figure\n",
       "   !function(mpld3){\n",
       "       \n",
       "       mpld3.draw_figure(\"fig_el131181406664002413609100416900\", {\"width\": 432.0, \"height\": 288.0, \"axes\": [], \"data\": {}, \"id\": \"el13118140666400241360\", \"plugins\": [{\"type\": \"reset\"}, {\"type\": \"zoom\", \"button\": true, \"enabled\": false}, {\"type\": \"boxzoom\", \"button\": true, \"enabled\": false}]});\n",
       "   }(mpld3);\n",
       "}else if(typeof define === \"function\" && define.amd){\n",
       "   // require.js is available: use it to load d3/mpld3\n",
       "   require.config({paths: {d3: \"https://mpld3.github.io/js/d3.v3.min\"}});\n",
       "   require([\"d3\"], function(d3){\n",
       "      window.d3 = d3;\n",
       "      mpld3_load_lib(\"https://mpld3.github.io/js/mpld3.v0.3.js\", function(){\n",
       "         \n",
       "         mpld3.draw_figure(\"fig_el131181406664002413609100416900\", {\"width\": 432.0, \"height\": 288.0, \"axes\": [], \"data\": {}, \"id\": \"el13118140666400241360\", \"plugins\": [{\"type\": \"reset\"}, {\"type\": \"zoom\", \"button\": true, \"enabled\": false}, {\"type\": \"boxzoom\", \"button\": true, \"enabled\": false}]});\n",
       "      });\n",
       "    });\n",
       "}else{\n",
       "    // require.js not available: dynamically load d3 & mpld3\n",
       "    mpld3_load_lib(\"https://mpld3.github.io/js/d3.v3.min.js\", function(){\n",
       "         mpld3_load_lib(\"https://mpld3.github.io/js/mpld3.v0.3.js\", function(){\n",
       "                 \n",
       "                 mpld3.draw_figure(\"fig_el131181406664002413609100416900\", {\"width\": 432.0, \"height\": 288.0, \"axes\": [], \"data\": {}, \"id\": \"el13118140666400241360\", \"plugins\": [{\"type\": \"reset\"}, {\"type\": \"zoom\", \"button\": true, \"enabled\": false}, {\"type\": \"boxzoom\", \"button\": true, \"enabled\": false}]});\n",
       "            })\n",
       "         });\n",
       "}\n",
       "</script>"
      ],
      "text/plain": [
       "<Figure size 432x288 with 0 Axes>"
      ]
     },
     "metadata": {},
     "output_type": "display_data"
    }
   ],
   "source": [
    "plt.gcf().subplots_adjust(bottom=0.15)\n",
    "\n",
    "def plotter(t, S, E, I, R, D, R_0,S_1=None,S_2=None,x_ticks=None):\n",
    "    if S_1 is not None and S_2 is not None:\n",
    "      print(f\"percentage going to ICU: {S_1*100}; percentage dying in ICU: {S_2 * 100}\")\n",
    "\n",
    "\n",
    "    f, ax = plt.subplots(1,1,figsize=(20,4))\n",
    "    if x_ticks is None:\n",
    "        ax.plot(t, S, 'b', alpha=0.7, linewidth=2, label='Susceptible')\n",
    "        ax.plot(t, E, 'y', alpha=0.7, linewidth=2, label='Exposed')\n",
    "        ax.plot(t, I, 'r', alpha=0.7, linewidth=2, label='Infected')\n",
    "        ax.plot(t, R, 'g', alpha=0.7, linewidth=2, label='Recovered')\n",
    "        ax.plot(t, D, 'k', alpha=0.7, linewidth=2, label='Dead')\n",
    "    else:\n",
    "        ax.plot(x_ticks, S, 'b', alpha=0.7, linewidth=2, label='Susceptible')\n",
    "        ax.plot(x_ticks, E, 'y', alpha=0.7, linewidth=2, label='Exposed')\n",
    "        ax.plot(x_ticks, I, 'r', alpha=0.7, linewidth=2, label='Infected')\n",
    "        ax.plot(x_ticks, R, 'g', alpha=0.7, linewidth=2, label='Recovered')\n",
    "        ax.plot(x_ticks, D, 'k', alpha=0.7, linewidth=2, label='Dead')\n",
    "\n",
    "        ax.xaxis.set_major_locator(mdates.YearLocator())\n",
    "        ax.xaxis.set_major_formatter(mdates.DateFormatter('%Y-%m-%d'))\n",
    "        ax.xaxis.set_minor_locator(mdates.MonthLocator())\n",
    "        f.autofmt_xdate()\n",
    "\n",
    "\n",
    "    ax.title.set_text('extended SEIR-Model')\n",
    "\n",
    "    ax.grid(b=True, which='major', c='w', lw=2, ls='-')\n",
    "    legend = ax.legend()\n",
    "    legend.get_frame().set_alpha(0.5)\n",
    "    for spine in ('top', 'right', 'bottom', 'left'):\n",
    "        ax.spines[spine].set_visible(False)\n",
    "\n",
    "    plt.show();\n",
    "    \n",
    "    f = plt.figure(figsize=(20,4))\n",
    "    # sp1\n",
    "    ax1 = f.add_subplot(131)\n",
    "    if x_ticks is None:\n",
    "        ax1.plot(t, R_0, 'b--', alpha=0.7, linewidth=2, label='R_0')\n",
    "    else:\n",
    "        ax1.plot(x_ticks, R_0, 'b--', alpha=0.7, linewidth=2, label='R_0')\n",
    "        ax1.xaxis.set_major_locator(mdates.YearLocator())\n",
    "        ax1.xaxis.set_major_formatter(mdates.DateFormatter('%Y-%m-%d'))\n",
    "        ax1.xaxis.set_minor_locator(mdates.MonthLocator())\n",
    "        f.autofmt_xdate()\n",
    "\n",
    " \n",
    "    ax1.title.set_text('R_0 over time')\n",
    "    ax1.grid(b=True, which='major', c='w', lw=2, ls='-')\n",
    "    legend = ax1.legend()\n",
    "    legend.get_frame().set_alpha(0.5)\n",
    "    for spine in ('top', 'right', 'bottom', 'left'):\n",
    "        ax.spines[spine].set_visible(False)\n",
    "\n",
    "    plt.show();"
   ]
  },
  {
   "cell_type": "markdown",
   "metadata": {},
   "source": [
    "<img src=\"images/model.png\">"
   ]
  },
  {
   "cell_type": "markdown",
   "metadata": {},
   "source": [
    "### Time Dependent R0"
   ]
  },
  {
   "cell_type": "markdown",
   "metadata": {},
   "source": [
    "<img src=\"images/r0.png\">"
   ]
  },
  {
   "cell_type": "markdown",
   "metadata": {},
   "source": [
    "### Fitting an extended SIR model with time-dependent R₀-values and resource-dependent death rates to actual Coronavirus data"
   ]
  },
  {
   "cell_type": "markdown",
   "metadata": {},
   "source": [
    "Limitations of the model:\n",
    "\n",
    "1. Extremely sensitive to initial parameters\n",
    "2. Presence of unreliable data\n",
    "3. Not accounting for hotspots and assuming homegeneity\n",
    "4. Assuming deaths do not change population structure\n",
    "5. Individuals are immune after recovery"
   ]
  },
  {
   "cell_type": "markdown",
   "metadata": {},
   "source": [
    "δ and γ are fixed to δ=1/9 and γ=1/3 (estimated through various experiments and research papers)\n",
    "\n",
    "Parameters to fit:\n",
    "\n",
    "1. R0_start\n",
    "2. R0_end\n",
    "3. x0 in R0(t)\n",
    "4. k in R0(t)"
   ]
  },
  {
   "cell_type": "code",
   "execution_count": 206,
   "metadata": {},
   "outputs": [],
   "source": [
    "#Set of differential equations for the SEIRD Model\n",
    "\n",
    "def deriv(y, t, N, beta, gamma, delta, alpha, rho):\n",
    "    S, E, I, R, D = y\n",
    "    dSdt = -beta(t) * S * I / N\n",
    "    dEdt = beta(t) * S * I / N - delta * E\n",
    "    dIdt = delta * E - (1 - alpha) * gamma * I - alpha * rho * I\n",
    "    dRdt = (1 - alpha) * gamma * I\n",
    "    dDdt = alpha * rho * I\n",
    "    return dSdt, dEdt, dIdt, dRdt, dDdt"
   ]
  },
  {
   "cell_type": "code",
   "execution_count": 226,
   "metadata": {},
   "outputs": [],
   "source": [
    "N = 1_300_000_000 #Total Population\n",
    "D = 3.0 #number of days an infected person has and can spread the disease\n",
    "gamma = 1.0 / D #the proportion of infected recovering per day\n",
    "delta = 1.0 / 9.0  # incubation period\n",
    "alpha = 0.03  # 3% death rate\n",
    "rho = 1/9  # 9 days from infection until death\n",
    "\n",
    "# R_0_start, k, x0, R_0_end = 5.0, 0.5, 50, 0.5\n",
    "#Earlier we had these now we have to fit them \n",
    "\n",
    "def logistic_R_0(t, R_0_start, k, x0, R_0_end):\n",
    "    return (R_0_start-R_0_end) / (1 + np.exp(-k*(-t+x0))) + R_0_end\n",
    "\n",
    "def Model(days,R_0_start, k, x0, R_0_end):\n",
    "    \n",
    "    def beta(t):\n",
    "        return logistic_R_0(t, R_0_start, k, x0, R_0_end) * gamma\n",
    "\n",
    "    S0, E0, I0, R0, D0 = N-1.0, 1.0, 0.0, 0.0, 0.0  # initial conditions: one exposed\n",
    "    y0 = S0, E0, I0, R0, D0 # Initial conditions vector\n",
    "    t = np.linspace(0, days-1, days)\n",
    "    \n",
    "    ret = odeint(deriv, y0, t, args=(N, beta, gamma, delta, alpha, rho))\n",
    "    S, E, I, R, D = ret.T\n",
    "    \n",
    "    R_0_over_time = [beta(i)/gamma for i in range(len(t))]\n",
    "    \n",
    "    return t,S,E,I,R,D,R_0_over_time"
   ]
  },
  {
   "cell_type": "code",
   "execution_count": 227,
   "metadata": {},
   "outputs": [],
   "source": [
    "#Loading and preprocesssing the data\n",
    "#Needs to be changed\n",
    "df=pd.read_csv('national_data.csv')\n",
    "df=df.loc[:,['cases_time_series__totaldeceased']]\n",
    "data=df['cases_time_series__totaldeceased'].values[::]\n",
    "y_data=data\n",
    "days=len(data)\n",
    "x_data = np.linspace(0, days - 1, days, dtype=int)"
   ]
  },
  {
   "cell_type": "code",
   "execution_count": 228,
   "metadata": {},
   "outputs": [],
   "source": [
    "def fitter(x, R_0_start, k, x0, R_0_end):\n",
    "    ret = Model(days,R_0_start, k, x0, R_0_end)\n",
    "    # Model returns bit tuple. 6-th value (index=6) is list with deaths per day.\n",
    "    return ret[5][x]"
   ]
  },
  {
   "cell_type": "code",
   "execution_count": 225,
   "metadata": {},
   "outputs": [],
   "source": [
    "params_init_min_max = {\"R_0_start\": (3.0, 2.0, 5.0), \"k\": (2.5, 0.01, 5.0), \"x0\": (90, 0, 120), \"R_0_end\": (0.9, 0.3, 3.5)}  # form: {parameter: (initial guess, minimum value, max value)}\n",
    "\n",
    "mod = lmfit.Model(fitter)\n",
    "\n",
    "for kwarg, (init, mini, maxi) in params_init_min_max.items():\n",
    "    mod.set_param_hint(str(kwarg), value=init, min=mini, max=maxi, vary=True)\n",
    "\n",
    "params = mod.make_params()\n",
    "fit_method = \"leastsq\""
   ]
  },
  {
   "cell_type": "code",
   "execution_count": 229,
   "metadata": {},
   "outputs": [],
   "source": [
    "result = mod.fit(y_data, params, method=\"least_squares\", x=x_data)"
   ]
  },
  {
   "cell_type": "code",
   "execution_count": 230,
   "metadata": {},
   "outputs": [
    {
     "data": {
      "image/png": "[encoded data removed]",
      "text/html": [
       "\n",
       "\n",
       "<style>\n",
       "\n",
       "</style>\n",
       "\n",
       "<div id=\"fig_el131181406663998313127055415197\"></div>\n",
       "<script>\n",
       "function mpld3_load_lib(url, callback){\n",
       "  var s = document.createElement('script');\n",
       "  s.src = url;\n",
       "  s.async = true;\n",
       "  s.onreadystatechange = s.onload = callback;\n",
       "  s.onerror = function(){console.warn(\"failed to load library \" + url);};\n",
       "  document.getElementsByTagName(\"head\")[0].appendChild(s);\n",
       "}\n",
       "\n",
       "if(typeof(mpld3) !== \"undefined\" && mpld3._mpld3IsLoaded){\n",
       "   // already loaded: just create the figure\n",
       "   !function(mpld3){\n",
       "       \n",
       "       mpld3.draw_figure(\"fig_el131181406663998313127055415197\", {\"width\": 432.0, \"height\": 288.0, \"axes\": [{\"bbox\": [0.125, 0.125, 0.775, 0.755], \"xlim\": [-6.050000000000001, 127.05], \"ylim\": [-259.2, 5443.2], \"xdomain\": [-6.050000000000001, 127.05], \"ydomain\": [-259.2, 5443.2], \"xscale\": \"linear\", \"yscale\": \"linear\", \"axes\": [{\"position\": \"bottom\", \"nticks\": 9, \"tickvalues\": null, \"tickformat\": null, \"scale\": \"linear\", \"fontsize\": 10.0, \"grid\": {\"gridOn\": false}, \"visible\": true}, {\"position\": \"left\", \"nticks\": 8, \"tickvalues\": null, \"tickformat\": null, \"scale\": \"linear\", \"fontsize\": 10.0, \"grid\": {\"gridOn\": false}, \"visible\": true}], \"axesbg\": \"#FFFFFF\", \"axesbgalpha\": null, \"zoomable\": true, \"id\": \"el13118140666400509008\", \"lines\": [{\"data\": \"data01\", \"xindex\": 0, \"yindex\": 1, \"coordinates\": \"data\", \"id\": \"el13118140666399945104\", \"color\": \"#1F77B4\", \"linewidth\": 1.5, \"dasharray\": \"none\", \"alpha\": 1, \"zorder\": 2, \"drawstyle\": \"default\"}, {\"data\": \"data01\", \"xindex\": 0, \"yindex\": 2, \"coordinates\": \"data\", \"id\": \"el13118140666401292176\", \"color\": \"#FF7F0E\", \"linewidth\": 1.5, \"dasharray\": \"none\", \"alpha\": 1, \"zorder\": 2, \"drawstyle\": \"default\"}, {\"data\": \"data02\", \"xindex\": 0, \"yindex\": 1, \"coordinates\": \"axes\", \"id\": \"el13118140666399946256\", \"color\": \"#1F77B4\", \"linewidth\": 1.5, \"dasharray\": \"none\", \"alpha\": 1, \"zorder\": 1000002.0, \"drawstyle\": \"default\"}, {\"data\": \"data02\", \"xindex\": 0, \"yindex\": 2, \"coordinates\": \"axes\", \"id\": \"el13118140666399948752\", \"color\": \"#FF7F0E\", \"linewidth\": 1.5, \"dasharray\": \"none\", \"alpha\": 1, \"zorder\": 1000002.0, \"drawstyle\": \"default\"}], \"paths\": [{\"data\": \"data03\", \"xindex\": 0, \"yindex\": 1, \"coordinates\": \"axes\", \"pathcodes\": [\"M\", \"L\", \"S\", \"L\", \"S\", \"L\", \"S\", \"L\", \"S\", \"Z\"], \"id\": \"el13118140666399946448\", \"dasharray\": \"none\", \"alpha\": 0.8, \"facecolor\": \"#FFFFFF\", \"edgecolor\": \"#CCCCCC\", \"edgewidth\": 1.0, \"zorder\": 1000000.0}], \"markers\": [], \"texts\": [{\"text\": \"x\", \"position\": [0.49999999999999994, -0.09657836644591614], \"coordinates\": \"axes\", \"h_anchor\": \"middle\", \"v_baseline\": \"hanging\", \"rotation\": -0.0, \"fontsize\": 10.0, \"color\": \"#000000\", \"alpha\": 1, \"zorder\": 3, \"id\": \"el13118140666400234768\"}, {\"text\": \"y\", \"position\": [-0.10790023894862605, 0.4999999999999999], \"coordinates\": \"axes\", \"h_anchor\": \"middle\", \"v_baseline\": \"auto\", \"rotation\": -90.0, \"fontsize\": 10.0, \"color\": \"#000000\", \"alpha\": 1, \"zorder\": 3, \"id\": \"el13118140666400234896\"}, {\"text\": \"Model(fitter)\", \"position\": [0.49999999999999994, 1.0275938189845473], \"coordinates\": \"axes\", \"h_anchor\": \"middle\", \"v_baseline\": \"auto\", \"rotation\": -0.0, \"fontsize\": 12.0, \"color\": \"#000000\", \"alpha\": 1, \"zorder\": 3, \"id\": \"el13118140666505545808\"}, {\"text\": \"data\", \"position\": [0.11051373954599761, 0.9218175128771156], \"coordinates\": \"axes\", \"h_anchor\": \"start\", \"v_baseline\": \"auto\", \"rotation\": -0.0, \"fontsize\": 10.0, \"color\": \"#000000\", \"alpha\": 1, \"zorder\": 1000003.0, \"id\": \"el13118140666399948368\"}, {\"text\": \"best-fit\", \"position\": [0.11051373954599761, 0.8528329654157469], \"coordinates\": \"axes\", \"h_anchor\": \"start\", \"v_baseline\": \"auto\", \"rotation\": -0.0, \"fontsize\": 10.0, \"color\": \"#000000\", \"alpha\": 1, \"zorder\": 1000003.0, \"id\": \"el13118140666399966544\"}], \"collections\": [], \"images\": [], \"sharex\": [], \"sharey\": []}], \"data\": {\"data01\": [[0.0, 0.0, 0.0], [1.0, 0.0, 0.0001623104868996247], [2.0, 0.0, 0.0005843171133210804], [3.0, 0.0, 0.0012117746571805674], [4.0, 0.0, 0.0020280522903149143], [5.0, 0.0, 0.003039282818172327], [6.0, 0.0, 0.004266813641394212], [7.0, 0.0, 0.005743689740107584], [8.0, 0.0, 0.007513419715612435], [9.0, 0.0, 0.009630100608877978], [10.0, 0.0, 0.012159425257637692], [11.0, 0.0, 0.01518034250991467], [12.0, 0.0, 0.018787278521870197], [13.0, 0.0, 0.023092906988512532], [14.0, 0.0, 0.028231506747556985], [15.0, 0.0, 0.03436297893139578], [16.0, 0.0, 0.04167762506420693], [17.0, 0.0, 0.05040180725452923], [18.0, 0.0, 0.060804645505334445], [19.0, 0.0, 0.07320592464109166], [20.0, 0.0, 0.08798542034225251], [21.0, 0.0, 0.10559388328859083], [22.0, 0.0, 0.12656595639585982], [23.0, 0.0, 0.15153534716294445], [24.0, 0.0, 0.1812526147316559], [25.0, 0.0, 0.2166059999925048], [26.0, 0.0, 0.25864575203421497], [27.0, 0.0, 0.3086125026703373], [28.0, 0.0, 0.36797028189074976], [29.0, 0.0, 0.4384448416563898], [30.0, 0.0, 0.5220680308626175], [31.0, 0.0, 0.6212290339914632], [32.0, 0.0, 0.7387333552851586], [33.0, 0.0, 0.8778705020622386], [34.0, 0.0, 1.0424913674933125], [35.0, 0.0, 1.23709637049635], [36.0, 0.0, 1.466935401381459], [37.0, 0.0, 1.738120696567043], [38.0, 0.0, 2.0577535201744053], [39.0, 0.0, 2.434065924736746], [40.0, 0.0, 2.876577930472776], [41.0, 0.0, 3.3962710278182686], [42.0, 1.0, 4.005778268692874], [43.0, 1.0, 4.719590787297229], [44.0, 2.0, 5.554280249549132], [45.0, 2.0, 6.528736129184077], [46.0, 2.0, 7.664416021170105], [47.0, 3.0, 8.9856064266051], [48.0, 3.0, 10.519690625387154], [49.0, 4.0, 12.2974192991819], [50.0, 4.0, 14.353178632829227], [51.0, 4.0, 16.72524965957073], [52.0, 7.0, 19.45605181838011], [53.0, 9.0, 22.592362821433138], [54.0, 10.0, 26.185506241824456], [55.0, 11.0, 30.29149818519766], [56.0, 16.0, 34.97114422442707], [57.0, 19.0, 40.29007803692415], [58.0, 24.0, 46.3187340935365], [59.0, 27.0, 53.13224797206218], [60.0, 41.0, 60.810279302039795], [61.0, 47.0, 69.43675469050795], [62.0, 53.0, 79.09953017958003], [63.0, 69.0, 89.88997541665168], [64.0, 83.0, 101.90248468211098], [65.0, 96.0, 115.23392229522582], [66.0, 118.0, 129.98301300980026], [67.0, 134.0, 146.24968995543705], [68.0, 161.0, 164.13441351803073], [69.0, 181.0, 183.73747926620575], [70.0, 227.0, 205.15832880875092], [71.0, 249.0, 228.49488134895506], [72.0, 290.0, 253.84290048906342], [73.0, 332.0, 281.2954116140156], [74.0, 359.0, 310.9421817220024], [75.0, 396.0, 342.86927185868336], [76.0, 423.0, 377.1586690400094], [77.0, 449.0, 413.88800423084166], [78.0, 487.0, 453.13035712931844], [79.0, 522.0, 494.95414780599634], [80.0, 560.0, 539.4231123294174], [81.0, 593.0, 586.5963572155692], [82.0, 646.0, 636.5284858679154], [83.0, 682.0, 689.2697897525143], [84.0, 722.0, 744.8664963065393], [85.0, 781.0, 803.3610586569137], [86.0, 825.0, 864.7924897441181], [87.0, 881.0, 929.1967181216615], [88.0, 939.0, 996.6069648354688], [89.0, 1008.0, 1067.0541307692552], [90.0, 1079.0, 1140.5671874745312], [91.0, 1154.0, 1217.1735648490958], [92.0, 1231.0, 1296.89953132633], [93.0, 1323.0, 1379.77056137463], [94.0, 1463.0, 1465.811681775474], [95.0, 1566.0, 1555.0478042394766], [96.0, 1694.0, 1647.5040366131711], [97.0, 1785.0, 1743.2059720130587], [98.0, 1889.0, 1842.1799478716928], [99.0, 1986.0, 1944.453288969414], [100.0, 2101.0, 2050.054530435384], [101.0, 2213.0, 2159.013611221959], [102.0, 2294.0, 2271.3620516401825], [103.0, 2414.0, 2387.133109595744], [104.0, 2551.0, 2506.361920364937], [105.0, 2648.0, 2629.0856153847867], [106.0, 2752.0, 2755.3434320780934], [107.0, 2872.0, 2885.176805365805], [108.0, 3024.0, 3018.6294473691055], [109.0, 3155.0, 3155.7474171208964], [110.0, 3301.0, 3296.579180481274], [111.0, 3435.0, 3441.1756610740254], [112.0, 3583.0, 3589.590285548406], [113.0, 3725.0, 3741.879016659419], [114.0, 3867.0, 3898.10039003093], [115.0, 4023.0, 4058.3155570693725], [116.0, 4173.0, 4222.588280126817], [117.0, 4346.0, 4390.9849748614], [118.0, 4534.0, 4563.5747269631365], [119.0, 4710.0, 4740.4293163657985], [120.0, 4979.0, 4921.623229078583], [121.0, 5184.0, 5107.233679659546]], \"data02\": [[0.026881720430107503, 0.9379139072847682, 0.8689293598233996], [0.08661887694145756, 0.9379139072847682, 0.8689293598233996]], \"data03\": [[0.020908004778972505, 0.8252391464311994], [0.22252090800477894, 0.8252391464311994], [0.22849462365591397, 0.8252391464311994], [0.22849462365591397, 0.834437086092715], [0.22849462365591397, 0.9678072111846947], [0.22849462365591397, 0.9770051508462105], [0.22252090800477894, 0.9770051508462105], [0.020908004778972505, 0.9770051508462105], [0.014934289127837508, 0.9770051508462105], [0.014934289127837508, 0.9678072111846947], [0.014934289127837508, 0.834437086092715], [0.014934289127837508, 0.8252391464311994], [0.020908004778972505, 0.8252391464311994]]}, \"id\": \"el13118140666399831312\", \"plugins\": [{\"type\": \"reset\"}, {\"type\": \"zoom\", \"button\": true, \"enabled\": false}, {\"type\": \"boxzoom\", \"button\": true, \"enabled\": false}]});\n",
       "   }(mpld3);\n",
       "}else if(typeof define === \"function\" && define.amd){\n",
       "   // require.js is available: use it to load d3/mpld3\n",
       "   require.config({paths: {d3: \"https://mpld3.github.io/js/d3.v3.min\"}});\n",
       "   require([\"d3\"], function(d3){\n",
       "      window.d3 = d3;\n",
       "      mpld3_load_lib(\"https://mpld3.github.io/js/mpld3.v0.3.js\", function(){\n",
       "         \n",
       "         mpld3.draw_figure(\"fig_el131181406663998313127055415197\", {\"width\": 432.0, \"height\": 288.0, \"axes\": [{\"bbox\": [0.125, 0.125, 0.775, 0.755], \"xlim\": [-6.050000000000001, 127.05], \"ylim\": [-259.2, 5443.2], \"xdomain\": [-6.050000000000001, 127.05], \"ydomain\": [-259.2, 5443.2], \"xscale\": \"linear\", \"yscale\": \"linear\", \"axes\": [{\"position\": \"bottom\", \"nticks\": 9, \"tickvalues\": null, \"tickformat\": null, \"scale\": \"linear\", \"fontsize\": 10.0, \"grid\": {\"gridOn\": false}, \"visible\": true}, {\"position\": \"left\", \"nticks\": 8, \"tickvalues\": null, \"tickformat\": null, \"scale\": \"linear\", \"fontsize\": 10.0, \"grid\": {\"gridOn\": false}, \"visible\": true}], \"axesbg\": \"#FFFFFF\", \"axesbgalpha\": null, \"zoomable\": true, \"id\": \"el13118140666400509008\", \"lines\": [{\"data\": \"data01\", \"xindex\": 0, \"yindex\": 1, \"coordinates\": \"data\", \"id\": \"el13118140666399945104\", \"color\": \"#1F77B4\", \"linewidth\": 1.5, \"dasharray\": \"none\", \"alpha\": 1, \"zorder\": 2, \"drawstyle\": \"default\"}, {\"data\": \"data01\", \"xindex\": 0, \"yindex\": 2, \"coordinates\": \"data\", \"id\": \"el13118140666401292176\", \"color\": \"#FF7F0E\", \"linewidth\": 1.5, \"dasharray\": \"none\", \"alpha\": 1, \"zorder\": 2, \"drawstyle\": \"default\"}, {\"data\": \"data02\", \"xindex\": 0, \"yindex\": 1, \"coordinates\": \"axes\", \"id\": \"el13118140666399946256\", \"color\": \"#1F77B4\", \"linewidth\": 1.5, \"dasharray\": \"none\", \"alpha\": 1, \"zorder\": 1000002.0, \"drawstyle\": \"default\"}, {\"data\": \"data02\", \"xindex\": 0, \"yindex\": 2, \"coordinates\": \"axes\", \"id\": \"el13118140666399948752\", \"color\": \"#FF7F0E\", \"linewidth\": 1.5, \"dasharray\": \"none\", \"alpha\": 1, \"zorder\": 1000002.0, \"drawstyle\": \"default\"}], \"paths\": [{\"data\": \"data03\", \"xindex\": 0, \"yindex\": 1, \"coordinates\": \"axes\", \"pathcodes\": [\"M\", \"L\", \"S\", \"L\", \"S\", \"L\", \"S\", \"L\", \"S\", \"Z\"], \"id\": \"el13118140666399946448\", \"dasharray\": \"none\", \"alpha\": 0.8, \"facecolor\": \"#FFFFFF\", \"edgecolor\": \"#CCCCCC\", \"edgewidth\": 1.0, \"zorder\": 1000000.0}], \"markers\": [], \"texts\": [{\"text\": \"x\", \"position\": [0.49999999999999994, -0.09657836644591614], \"coordinates\": \"axes\", \"h_anchor\": \"middle\", \"v_baseline\": \"hanging\", \"rotation\": -0.0, \"fontsize\": 10.0, \"color\": \"#000000\", \"alpha\": 1, \"zorder\": 3, \"id\": \"el13118140666400234768\"}, {\"text\": \"y\", \"position\": [-0.10790023894862605, 0.4999999999999999], \"coordinates\": \"axes\", \"h_anchor\": \"middle\", \"v_baseline\": \"auto\", \"rotation\": -90.0, \"fontsize\": 10.0, \"color\": \"#000000\", \"alpha\": 1, \"zorder\": 3, \"id\": \"el13118140666400234896\"}, {\"text\": \"Model(fitter)\", \"position\": [0.49999999999999994, 1.0275938189845473], \"coordinates\": \"axes\", \"h_anchor\": \"middle\", \"v_baseline\": \"auto\", \"rotation\": -0.0, \"fontsize\": 12.0, \"color\": \"#000000\", \"alpha\": 1, \"zorder\": 3, \"id\": \"el13118140666505545808\"}, {\"text\": \"data\", \"position\": [0.11051373954599761, 0.9218175128771156], \"coordinates\": \"axes\", \"h_anchor\": \"start\", \"v_baseline\": \"auto\", \"rotation\": -0.0, \"fontsize\": 10.0, \"color\": \"#000000\", \"alpha\": 1, \"zorder\": 1000003.0, \"id\": \"el13118140666399948368\"}, {\"text\": \"best-fit\", \"position\": [0.11051373954599761, 0.8528329654157469], \"coordinates\": \"axes\", \"h_anchor\": \"start\", \"v_baseline\": \"auto\", \"rotation\": -0.0, \"fontsize\": 10.0, \"color\": \"#000000\", \"alpha\": 1, \"zorder\": 1000003.0, \"id\": \"el13118140666399966544\"}], \"collections\": [], \"images\": [], \"sharex\": [], \"sharey\": []}], \"data\": {\"data01\": [[0.0, 0.0, 0.0], [1.0, 0.0, 0.0001623104868996247], [2.0, 0.0, 0.0005843171133210804], [3.0, 0.0, 0.0012117746571805674], [4.0, 0.0, 0.0020280522903149143], [5.0, 0.0, 0.003039282818172327], [6.0, 0.0, 0.004266813641394212], [7.0, 0.0, 0.005743689740107584], [8.0, 0.0, 0.007513419715612435], [9.0, 0.0, 0.009630100608877978], [10.0, 0.0, 0.012159425257637692], [11.0, 0.0, 0.01518034250991467], [12.0, 0.0, 0.018787278521870197], [13.0, 0.0, 0.023092906988512532], [14.0, 0.0, 0.028231506747556985], [15.0, 0.0, 0.03436297893139578], [16.0, 0.0, 0.04167762506420693], [17.0, 0.0, 0.05040180725452923], [18.0, 0.0, 0.060804645505334445], [19.0, 0.0, 0.07320592464109166], [20.0, 0.0, 0.08798542034225251], [21.0, 0.0, 0.10559388328859083], [22.0, 0.0, 0.12656595639585982], [23.0, 0.0, 0.15153534716294445], [24.0, 0.0, 0.1812526147316559], [25.0, 0.0, 0.2166059999925048], [26.0, 0.0, 0.25864575203421497], [27.0, 0.0, 0.3086125026703373], [28.0, 0.0, 0.36797028189074976], [29.0, 0.0, 0.4384448416563898], [30.0, 0.0, 0.5220680308626175], [31.0, 0.0, 0.6212290339914632], [32.0, 0.0, 0.7387333552851586], [33.0, 0.0, 0.8778705020622386], [34.0, 0.0, 1.0424913674933125], [35.0, 0.0, 1.23709637049635], [36.0, 0.0, 1.466935401381459], [37.0, 0.0, 1.738120696567043], [38.0, 0.0, 2.0577535201744053], [39.0, 0.0, 2.434065924736746], [40.0, 0.0, 2.876577930472776], [41.0, 0.0, 3.3962710278182686], [42.0, 1.0, 4.005778268692874], [43.0, 1.0, 4.719590787297229], [44.0, 2.0, 5.554280249549132], [45.0, 2.0, 6.528736129184077], [46.0, 2.0, 7.664416021170105], [47.0, 3.0, 8.9856064266051], [48.0, 3.0, 10.519690625387154], [49.0, 4.0, 12.2974192991819], [50.0, 4.0, 14.353178632829227], [51.0, 4.0, 16.72524965957073], [52.0, 7.0, 19.45605181838011], [53.0, 9.0, 22.592362821433138], [54.0, 10.0, 26.185506241824456], [55.0, 11.0, 30.29149818519766], [56.0, 16.0, 34.97114422442707], [57.0, 19.0, 40.29007803692415], [58.0, 24.0, 46.3187340935365], [59.0, 27.0, 53.13224797206218], [60.0, 41.0, 60.810279302039795], [61.0, 47.0, 69.43675469050795], [62.0, 53.0, 79.09953017958003], [63.0, 69.0, 89.88997541665168], [64.0, 83.0, 101.90248468211098], [65.0, 96.0, 115.23392229522582], [66.0, 118.0, 129.98301300980026], [67.0, 134.0, 146.24968995543705], [68.0, 161.0, 164.13441351803073], [69.0, 181.0, 183.73747926620575], [70.0, 227.0, 205.15832880875092], [71.0, 249.0, 228.49488134895506], [72.0, 290.0, 253.84290048906342], [73.0, 332.0, 281.2954116140156], [74.0, 359.0, 310.9421817220024], [75.0, 396.0, 342.86927185868336], [76.0, 423.0, 377.1586690400094], [77.0, 449.0, 413.88800423084166], [78.0, 487.0, 453.13035712931844], [79.0, 522.0, 494.95414780599634], [80.0, 560.0, 539.4231123294174], [81.0, 593.0, 586.5963572155692], [82.0, 646.0, 636.5284858679154], [83.0, 682.0, 689.2697897525143], [84.0, 722.0, 744.8664963065393], [85.0, 781.0, 803.3610586569137], [86.0, 825.0, 864.7924897441181], [87.0, 881.0, 929.1967181216615], [88.0, 939.0, 996.6069648354688], [89.0, 1008.0, 1067.0541307692552], [90.0, 1079.0, 1140.5671874745312], [91.0, 1154.0, 1217.1735648490958], [92.0, 1231.0, 1296.89953132633], [93.0, 1323.0, 1379.77056137463], [94.0, 1463.0, 1465.811681775474], [95.0, 1566.0, 1555.0478042394766], [96.0, 1694.0, 1647.5040366131711], [97.0, 1785.0, 1743.2059720130587], [98.0, 1889.0, 1842.1799478716928], [99.0, 1986.0, 1944.453288969414], [100.0, 2101.0, 2050.054530435384], [101.0, 2213.0, 2159.013611221959], [102.0, 2294.0, 2271.3620516401825], [103.0, 2414.0, 2387.133109595744], [104.0, 2551.0, 2506.361920364937], [105.0, 2648.0, 2629.0856153847867], [106.0, 2752.0, 2755.3434320780934], [107.0, 2872.0, 2885.176805365805], [108.0, 3024.0, 3018.6294473691055], [109.0, 3155.0, 3155.7474171208964], [110.0, 3301.0, 3296.579180481274], [111.0, 3435.0, 3441.1756610740254], [112.0, 3583.0, 3589.590285548406], [113.0, 3725.0, 3741.879016659419], [114.0, 3867.0, 3898.10039003093], [115.0, 4023.0, 4058.3155570693725], [116.0, 4173.0, 4222.588280126817], [117.0, 4346.0, 4390.9849748614], [118.0, 4534.0, 4563.5747269631365], [119.0, 4710.0, 4740.4293163657985], [120.0, 4979.0, 4921.623229078583], [121.0, 5184.0, 5107.233679659546]], \"data02\": [[0.026881720430107503, 0.9379139072847682, 0.8689293598233996], [0.08661887694145756, 0.9379139072847682, 0.8689293598233996]], \"data03\": [[0.020908004778972505, 0.8252391464311994], [0.22252090800477894, 0.8252391464311994], [0.22849462365591397, 0.8252391464311994], [0.22849462365591397, 0.834437086092715], [0.22849462365591397, 0.9678072111846947], [0.22849462365591397, 0.9770051508462105], [0.22252090800477894, 0.9770051508462105], [0.020908004778972505, 0.9770051508462105], [0.014934289127837508, 0.9770051508462105], [0.014934289127837508, 0.9678072111846947], [0.014934289127837508, 0.834437086092715], [0.014934289127837508, 0.8252391464311994], [0.020908004778972505, 0.8252391464311994]]}, \"id\": \"el13118140666399831312\", \"plugins\": [{\"type\": \"reset\"}, {\"type\": \"zoom\", \"button\": true, \"enabled\": false}, {\"type\": \"boxzoom\", \"button\": true, \"enabled\": false}]});\n",
       "      });\n",
       "    });\n",
       "}else{\n",
       "    // require.js not available: dynamically load d3 & mpld3\n",
       "    mpld3_load_lib(\"https://mpld3.github.io/js/d3.v3.min.js\", function(){\n",
       "         mpld3_load_lib(\"https://mpld3.github.io/js/mpld3.v0.3.js\", function(){\n",
       "                 \n",
       "                 mpld3.draw_figure(\"fig_el131181406663998313127055415197\", {\"width\": 432.0, \"height\": 288.0, \"axes\": [{\"bbox\": [0.125, 0.125, 0.775, 0.755], \"xlim\": [-6.050000000000001, 127.05], \"ylim\": [-259.2, 5443.2], \"xdomain\": [-6.050000000000001, 127.05], \"ydomain\": [-259.2, 5443.2], \"xscale\": \"linear\", \"yscale\": \"linear\", \"axes\": [{\"position\": \"bottom\", \"nticks\": 9, \"tickvalues\": null, \"tickformat\": null, \"scale\": \"linear\", \"fontsize\": 10.0, \"grid\": {\"gridOn\": false}, \"visible\": true}, {\"position\": \"left\", \"nticks\": 8, \"tickvalues\": null, \"tickformat\": null, \"scale\": \"linear\", \"fontsize\": 10.0, \"grid\": {\"gridOn\": false}, \"visible\": true}], \"axesbg\": \"#FFFFFF\", \"axesbgalpha\": null, \"zoomable\": true, \"id\": \"el13118140666400509008\", \"lines\": [{\"data\": \"data01\", \"xindex\": 0, \"yindex\": 1, \"coordinates\": \"data\", \"id\": \"el13118140666399945104\", \"color\": \"#1F77B4\", \"linewidth\": 1.5, \"dasharray\": \"none\", \"alpha\": 1, \"zorder\": 2, \"drawstyle\": \"default\"}, {\"data\": \"data01\", \"xindex\": 0, \"yindex\": 2, \"coordinates\": \"data\", \"id\": \"el13118140666401292176\", \"color\": \"#FF7F0E\", \"linewidth\": 1.5, \"dasharray\": \"none\", \"alpha\": 1, \"zorder\": 2, \"drawstyle\": \"default\"}, {\"data\": \"data02\", \"xindex\": 0, \"yindex\": 1, \"coordinates\": \"axes\", \"id\": \"el13118140666399946256\", \"color\": \"#1F77B4\", \"linewidth\": 1.5, \"dasharray\": \"none\", \"alpha\": 1, \"zorder\": 1000002.0, \"drawstyle\": \"default\"}, {\"data\": \"data02\", \"xindex\": 0, \"yindex\": 2, \"coordinates\": \"axes\", \"id\": \"el13118140666399948752\", \"color\": \"#FF7F0E\", \"linewidth\": 1.5, \"dasharray\": \"none\", \"alpha\": 1, \"zorder\": 1000002.0, \"drawstyle\": \"default\"}], \"paths\": [{\"data\": \"data03\", \"xindex\": 0, \"yindex\": 1, \"coordinates\": \"axes\", \"pathcodes\": [\"M\", \"L\", \"S\", \"L\", \"S\", \"L\", \"S\", \"L\", \"S\", \"Z\"], \"id\": \"el13118140666399946448\", \"dasharray\": \"none\", \"alpha\": 0.8, \"facecolor\": \"#FFFFFF\", \"edgecolor\": \"#CCCCCC\", \"edgewidth\": 1.0, \"zorder\": 1000000.0}], \"markers\": [], \"texts\": [{\"text\": \"x\", \"position\": [0.49999999999999994, -0.09657836644591614], \"coordinates\": \"axes\", \"h_anchor\": \"middle\", \"v_baseline\": \"hanging\", \"rotation\": -0.0, \"fontsize\": 10.0, \"color\": \"#000000\", \"alpha\": 1, \"zorder\": 3, \"id\": \"el13118140666400234768\"}, {\"text\": \"y\", \"position\": [-0.10790023894862605, 0.4999999999999999], \"coordinates\": \"axes\", \"h_anchor\": \"middle\", \"v_baseline\": \"auto\", \"rotation\": -90.0, \"fontsize\": 10.0, \"color\": \"#000000\", \"alpha\": 1, \"zorder\": 3, \"id\": \"el13118140666400234896\"}, {\"text\": \"Model(fitter)\", \"position\": [0.49999999999999994, 1.0275938189845473], \"coordinates\": \"axes\", \"h_anchor\": \"middle\", \"v_baseline\": \"auto\", \"rotation\": -0.0, \"fontsize\": 12.0, \"color\": \"#000000\", \"alpha\": 1, \"zorder\": 3, \"id\": \"el13118140666505545808\"}, {\"text\": \"data\", \"position\": [0.11051373954599761, 0.9218175128771156], \"coordinates\": \"axes\", \"h_anchor\": \"start\", \"v_baseline\": \"auto\", \"rotation\": -0.0, \"fontsize\": 10.0, \"color\": \"#000000\", \"alpha\": 1, \"zorder\": 1000003.0, \"id\": \"el13118140666399948368\"}, {\"text\": \"best-fit\", \"position\": [0.11051373954599761, 0.8528329654157469], \"coordinates\": \"axes\", \"h_anchor\": \"start\", \"v_baseline\": \"auto\", \"rotation\": -0.0, \"fontsize\": 10.0, \"color\": \"#000000\", \"alpha\": 1, \"zorder\": 1000003.0, \"id\": \"el13118140666399966544\"}], \"collections\": [], \"images\": [], \"sharex\": [], \"sharey\": []}], \"data\": {\"data01\": [[0.0, 0.0, 0.0], [1.0, 0.0, 0.0001623104868996247], [2.0, 0.0, 0.0005843171133210804], [3.0, 0.0, 0.0012117746571805674], [4.0, 0.0, 0.0020280522903149143], [5.0, 0.0, 0.003039282818172327], [6.0, 0.0, 0.004266813641394212], [7.0, 0.0, 0.005743689740107584], [8.0, 0.0, 0.007513419715612435], [9.0, 0.0, 0.009630100608877978], [10.0, 0.0, 0.012159425257637692], [11.0, 0.0, 0.01518034250991467], [12.0, 0.0, 0.018787278521870197], [13.0, 0.0, 0.023092906988512532], [14.0, 0.0, 0.028231506747556985], [15.0, 0.0, 0.03436297893139578], [16.0, 0.0, 0.04167762506420693], [17.0, 0.0, 0.05040180725452923], [18.0, 0.0, 0.060804645505334445], [19.0, 0.0, 0.07320592464109166], [20.0, 0.0, 0.08798542034225251], [21.0, 0.0, 0.10559388328859083], [22.0, 0.0, 0.12656595639585982], [23.0, 0.0, 0.15153534716294445], [24.0, 0.0, 0.1812526147316559], [25.0, 0.0, 0.2166059999925048], [26.0, 0.0, 0.25864575203421497], [27.0, 0.0, 0.3086125026703373], [28.0, 0.0, 0.36797028189074976], [29.0, 0.0, 0.4384448416563898], [30.0, 0.0, 0.5220680308626175], [31.0, 0.0, 0.6212290339914632], [32.0, 0.0, 0.7387333552851586], [33.0, 0.0, 0.8778705020622386], [34.0, 0.0, 1.0424913674933125], [35.0, 0.0, 1.23709637049635], [36.0, 0.0, 1.466935401381459], [37.0, 0.0, 1.738120696567043], [38.0, 0.0, 2.0577535201744053], [39.0, 0.0, 2.434065924736746], [40.0, 0.0, 2.876577930472776], [41.0, 0.0, 3.3962710278182686], [42.0, 1.0, 4.005778268692874], [43.0, 1.0, 4.719590787297229], [44.0, 2.0, 5.554280249549132], [45.0, 2.0, 6.528736129184077], [46.0, 2.0, 7.664416021170105], [47.0, 3.0, 8.9856064266051], [48.0, 3.0, 10.519690625387154], [49.0, 4.0, 12.2974192991819], [50.0, 4.0, 14.353178632829227], [51.0, 4.0, 16.72524965957073], [52.0, 7.0, 19.45605181838011], [53.0, 9.0, 22.592362821433138], [54.0, 10.0, 26.185506241824456], [55.0, 11.0, 30.29149818519766], [56.0, 16.0, 34.97114422442707], [57.0, 19.0, 40.29007803692415], [58.0, 24.0, 46.3187340935365], [59.0, 27.0, 53.13224797206218], [60.0, 41.0, 60.810279302039795], [61.0, 47.0, 69.43675469050795], [62.0, 53.0, 79.09953017958003], [63.0, 69.0, 89.88997541665168], [64.0, 83.0, 101.90248468211098], [65.0, 96.0, 115.23392229522582], [66.0, 118.0, 129.98301300980026], [67.0, 134.0, 146.24968995543705], [68.0, 161.0, 164.13441351803073], [69.0, 181.0, 183.73747926620575], [70.0, 227.0, 205.15832880875092], [71.0, 249.0, 228.49488134895506], [72.0, 290.0, 253.84290048906342], [73.0, 332.0, 281.2954116140156], [74.0, 359.0, 310.9421817220024], [75.0, 396.0, 342.86927185868336], [76.0, 423.0, 377.1586690400094], [77.0, 449.0, 413.88800423084166], [78.0, 487.0, 453.13035712931844], [79.0, 522.0, 494.95414780599634], [80.0, 560.0, 539.4231123294174], [81.0, 593.0, 586.5963572155692], [82.0, 646.0, 636.5284858679154], [83.0, 682.0, 689.2697897525143], [84.0, 722.0, 744.8664963065393], [85.0, 781.0, 803.3610586569137], [86.0, 825.0, 864.7924897441181], [87.0, 881.0, 929.1967181216615], [88.0, 939.0, 996.6069648354688], [89.0, 1008.0, 1067.0541307692552], [90.0, 1079.0, 1140.5671874745312], [91.0, 1154.0, 1217.1735648490958], [92.0, 1231.0, 1296.89953132633], [93.0, 1323.0, 1379.77056137463], [94.0, 1463.0, 1465.811681775474], [95.0, 1566.0, 1555.0478042394766], [96.0, 1694.0, 1647.5040366131711], [97.0, 1785.0, 1743.2059720130587], [98.0, 1889.0, 1842.1799478716928], [99.0, 1986.0, 1944.453288969414], [100.0, 2101.0, 2050.054530435384], [101.0, 2213.0, 2159.013611221959], [102.0, 2294.0, 2271.3620516401825], [103.0, 2414.0, 2387.133109595744], [104.0, 2551.0, 2506.361920364937], [105.0, 2648.0, 2629.0856153847867], [106.0, 2752.0, 2755.3434320780934], [107.0, 2872.0, 2885.176805365805], [108.0, 3024.0, 3018.6294473691055], [109.0, 3155.0, 3155.7474171208964], [110.0, 3301.0, 3296.579180481274], [111.0, 3435.0, 3441.1756610740254], [112.0, 3583.0, 3589.590285548406], [113.0, 3725.0, 3741.879016659419], [114.0, 3867.0, 3898.10039003093], [115.0, 4023.0, 4058.3155570693725], [116.0, 4173.0, 4222.588280126817], [117.0, 4346.0, 4390.9849748614], [118.0, 4534.0, 4563.5747269631365], [119.0, 4710.0, 4740.4293163657985], [120.0, 4979.0, 4921.623229078583], [121.0, 5184.0, 5107.233679659546]], \"data02\": [[0.026881720430107503, 0.9379139072847682, 0.8689293598233996], [0.08661887694145756, 0.9379139072847682, 0.8689293598233996]], \"data03\": [[0.020908004778972505, 0.8252391464311994], [0.22252090800477894, 0.8252391464311994], [0.22849462365591397, 0.8252391464311994], [0.22849462365591397, 0.834437086092715], [0.22849462365591397, 0.9678072111846947], [0.22849462365591397, 0.9770051508462105], [0.22252090800477894, 0.9770051508462105], [0.020908004778972505, 0.9770051508462105], [0.014934289127837508, 0.9770051508462105], [0.014934289127837508, 0.9678072111846947], [0.014934289127837508, 0.834437086092715], [0.014934289127837508, 0.8252391464311994], [0.020908004778972505, 0.8252391464311994]]}, \"id\": \"el13118140666399831312\", \"plugins\": [{\"type\": \"reset\"}, {\"type\": \"zoom\", \"button\": true, \"enabled\": false}, {\"type\": \"boxzoom\", \"button\": true, \"enabled\": false}]});\n",
       "            })\n",
       "         });\n",
       "}\n",
       "</script>"
      ],
      "text/plain": [
       "<Figure size 432x288 with 1 Axes>"
      ]
     },
     "metadata": {
      "needs_background": "light"
     },
     "output_type": "display_data"
    }
   ],
   "source": [
    "result.plot_fit(datafmt=\"-\");"
   ]
  },
  {
   "cell_type": "code",
   "execution_count": 232,
   "metadata": {},
   "outputs": [
    {
     "data": {
      "text/plain": [
       "{'R_0_start': 3.962131670832028,\n",
       " 'k': 0.08240922438028607,\n",
       " 'x0': 60.59105892039222,\n",
       " 'R_0_end': 1.2568334041062208}"
      ]
     },
     "execution_count": 232,
     "metadata": {},
     "output_type": "execute_result"
    }
   ],
   "source": [
    "result.best_values"
   ]
  },
  {
   "cell_type": "code",
   "execution_count": 237,
   "metadata": {},
   "outputs": [
    {
     "name": "stdout",
     "output_type": "stream",
     "text": [
      "45111.862707822926\n"
     ]
    }
   ],
   "source": [
    "pred=Model(200,**result.best_values)\n",
    "print(pred[5][199])"
   ]
  },
  {
   "cell_type": "markdown",
   "metadata": {},
   "source": [
    "### Since the data started from 30 January, 200 days from it will be 17 August. Predicted deaths are 45112"
   ]
  }
 ],
 "metadata": {
  "kernelspec": {
   "display_name": "Python 3",
   "language": "python",
   "name": "python3"
  },
  "language_info": {
   "codemirror_mode": {
    "name": "ipython",
    "version": 3
   },
   "file_extension": ".py",
   "mimetype": "text/x-python",
   "name": "python",
   "nbconvert_exporter": "python",
   "pygments_lexer": "ipython3",
   "version": "3.7.5"
  }
 },
 "nbformat": 4,
 "nbformat_minor": 4
}
