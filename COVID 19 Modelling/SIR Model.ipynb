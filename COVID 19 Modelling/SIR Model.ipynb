{
 "cells": [
  {
   "cell_type": "code",
   "execution_count": 106,
   "metadata": {},
   "outputs": [
    {
     "name": "stdout",
     "output_type": "stream",
     "text": [
      "Defaulting to user installation because normal site-packages is not writeable\n",
      "Requirement already satisfied: mpld3 in /home/kartik/.local/lib/python3.7/site-packages (0.3)\n",
      "Defaulting to user installation because normal site-packages is not writeable\n",
      "Requirement already satisfied: lmfit in /home/kartik/.local/lib/python3.7/site-packages (1.0.1)\n",
      "Requirement already satisfied: uncertainties>=3.0.1 in /home/kartik/.local/lib/python3.7/site-packages (from lmfit) (3.1.2)\n",
      "Requirement already satisfied: numpy>=1.16 in /usr/lib/python3/dist-packages (from lmfit) (1.16.2)\n",
      "Requirement already satisfied: scipy>=1.2 in /home/kartik/.local/lib/python3.7/site-packages (from lmfit) (1.4.1)\n",
      "Requirement already satisfied: asteval>=0.9.16 in /home/kartik/.local/lib/python3.7/site-packages (from lmfit) (0.9.18)\n"
     ]
    }
   ],
   "source": [
    "#Import Libraries\n",
    "\n",
    "from scipy.integrate import odeint\n",
    "import numpy as np\n",
    "import matplotlib.pyplot as plt\n",
    "%matplotlib inline \n",
    "!pip install mpld3\n",
    "import mpld3\n",
    "mpld3.enable_notebook()\n",
    "import pandas as pd\n",
    "!pip install lmfit\n",
    "import lmfit"
   ]
  },
  {
   "cell_type": "markdown",
   "metadata": {},
   "source": [
    "<img src=\"images/model.png\">"
   ]
  },
  {
   "cell_type": "markdown",
   "metadata": {},
   "source": [
    "### Time Dependent R0"
   ]
  },
  {
   "cell_type": "markdown",
   "metadata": {},
   "source": [
    "<img src=\"images/r0.png\">"
   ]
  },
  {
   "cell_type": "markdown",
   "metadata": {},
   "source": [
    "### Fitting an extended SIR model with time-dependent R₀-values and resource-dependent death rates to actual Coronavirus data"
   ]
  },
  {
   "cell_type": "markdown",
   "metadata": {},
   "source": [
    "Limitations of the model:\n",
    "\n",
    "1. Extremely sensitive to initial parameters\n",
    "2. Presence of unreliable data\n",
    "3. Not accounting for hotspots and assuming homegeneity\n",
    "4. Assuming deaths do not change population structure\n",
    "5. Individuals are immune after recovery"
   ]
  },
  {
   "cell_type": "markdown",
   "metadata": {},
   "source": [
    "δ and γ are fixed to δ=1/9 and γ=1/3 (estimated through various experiments and research papers)\n",
    "\n",
    "Parameters to fit:\n",
    "\n",
    "1. R0_start\n",
    "2. R0_end\n",
    "3. x0 in R0(t)\n",
    "4. k in R0(t)"
   ]
  },
  {
   "cell_type": "code",
   "execution_count": 107,
   "metadata": {},
   "outputs": [],
   "source": [
    "#Set of differential equations for the SEIRD Model\n",
    "\n",
    "def deriv(y, t, N, beta, gamma, delta, alpha, rho):\n",
    "    S, E, I, R, D = y\n",
    "    dSdt = -beta(t) * S * I / N\n",
    "    dEdt = beta(t) * S * I / N - delta * E\n",
    "    dIdt = delta * E - (1 - alpha) * gamma * I - alpha * rho * I\n",
    "    dRdt = (1 - alpha) * gamma * I\n",
    "    dDdt = alpha * rho * I\n",
    "    return dSdt, dEdt, dIdt, dRdt, dDdt"
   ]
  },
  {
   "cell_type": "code",
   "execution_count": 108,
   "metadata": {},
   "outputs": [],
   "source": [
    "N = 1_300_000_000 #Total Population\n",
    "D = 3.0 #number of days an infected person has and can spread the disease\n",
    "gamma = 1.0 / D #the proportion of infected recovering per day\n",
    "delta = 1.0 / 9.0  # incubation period\n",
    "alpha = 0.028  # 2.8% death rate\n",
    "rho = 1/9  # 9 days from infection until death\n",
    "\n",
    "# R_0_start, k, x0, R_0_end = 5.0, 0.5, 50, 0.5\n",
    "#Earlier we had these now we have to fit them \n",
    "\n",
    "def logistic_R_0(t, R_0_start, k, x0, R_0_end):\n",
    "    return (R_0_start-R_0_end) / (1 + np.exp(-k*(-t+x0))) + R_0_end\n",
    "\n",
    "def Model(days,R_0_start, k, x0, R_0_end):\n",
    "    \n",
    "    def beta(t):\n",
    "        return logistic_R_0(t, R_0_start, k, x0, R_0_end) * gamma\n",
    "\n",
    "    S0, E0, I0, R0, D0 = N-1.0, 1.0, 0.0, 0.0, 0.0  # initial conditions: one exposed\n",
    "    y0 = S0, E0, I0, R0, D0 # Initial conditions vector\n",
    "    t = np.linspace(0, days-1, days)\n",
    "    \n",
    "    ret = odeint(deriv, y0, t, args=(N, beta, gamma, delta, alpha, rho))\n",
    "    S, E, I, R, D = ret.T\n",
    "    \n",
    "    R_0_over_time = [beta(i)/gamma for i in range(len(t))]\n",
    "    \n",
    "    return t,S,E,I,R,D,R_0_over_time"
   ]
  },
  {
   "cell_type": "code",
   "execution_count": 109,
   "metadata": {},
   "outputs": [],
   "source": [
    "#Loading and preprocesssing the data\n",
    "#Needs to be changed\n",
    "df=pd.read_csv('national_data.csv')\n",
    "# df=df.loc[:,['cases_time_series__totaldeceased']]\n",
    "# data=df['cases_time_series__totaldeceased'].values[::]\n",
    "df=df.loc[:,['cases_time_series__totalconfirmed']]\n",
    "data=df['cases_time_series__totalconfirmed'].values[::]\n",
    "y_data=data\n",
    "days=len(data)\n",
    "x_data = np.linspace(0, days - 1, days, dtype=int)"
   ]
  },
  {
   "cell_type": "code",
   "execution_count": 110,
   "metadata": {},
   "outputs": [],
   "source": [
    "def fitter(x, R_0_start, k, x0, R_0_end):\n",
    "    ret = Model(days,R_0_start, k, x0, R_0_end)\n",
    "    # Model returns bit tuple. 6-th value (index=6) is list with deaths per day.\n",
    "    return ret[2][x]+ret[3][x]+ret[4][x]"
   ]
  },
  {
   "cell_type": "code",
   "execution_count": 111,
   "metadata": {},
   "outputs": [],
   "source": [
    "params_init_min_max = {\"R_0_start\": (3.0, 2.0, 5.0), \"k\": (2.5, 0.01, 5.0), \"x0\": (90, 0, 120), \"R_0_end\": (0.9, 0.3, 3.5)}  # form: {parameter: (initial guess, minimum value, max value)}\n",
    "\n",
    "mod = lmfit.Model(fitter)\n",
    "\n",
    "for kwarg, (init, mini, maxi) in params_init_min_max.items():\n",
    "    mod.set_param_hint(str(kwarg), value=init, min=mini, max=maxi, vary=True)\n",
    "\n",
    "params = mod.make_params()\n",
    "fit_method = \"leastsq\""
   ]
  },
  {
   "cell_type": "code",
   "execution_count": 112,
   "metadata": {},
   "outputs": [],
   "source": [
    "result = mod.fit(y_data, params, method=\"least_squares\", x=x_data)"
   ]
  },
  {
   "cell_type": "code",
   "execution_count": 113,
   "metadata": {},
   "outputs": [
    {
     "data": {
      "image/png": "[encoded data removed]",
      "text/html": [
       "\n",
       "\n",
       "<style>\n",
       "\n",
       "</style>\n",
       "\n",
       "<div id=\"fig_el40191398358915237282839632935\"></div>\n",
       "<script>\n",
       "function mpld3_load_lib(url, callback){\n",
       "  var s = document.createElement('script');\n",
       "  s.src = url;\n",
       "  s.async = true;\n",
       "  s.onreadystatechange = s.onload = callback;\n",
       "  s.onerror = function(){console.warn(\"failed to load library \" + url);};\n",
       "  document.getElementsByTagName(\"head\")[0].appendChild(s);\n",
       "}\n",
       "\n",
       "if(typeof(mpld3) !== \"undefined\" && mpld3._mpld3IsLoaded){\n",
       "   // already loaded: just create the figure\n",
       "   !function(mpld3){\n",
       "       \n",
       "       mpld3.draw_figure(\"fig_el40191398358915237282839632935\", {\"width\": 432.0, \"height\": 288.0, \"axes\": [{\"bbox\": [0.125, 0.125, 0.775, 0.755], \"xlim\": [-6.050000000000001, 127.05], \"ylim\": [-9124.942609249842, 191645.79479424667], \"xdomain\": [-6.050000000000001, 127.05], \"ydomain\": [-9124.942609249842, 191645.79479424667], \"xscale\": \"linear\", \"yscale\": \"linear\", \"axes\": [{\"position\": \"bottom\", \"nticks\": 9, \"tickvalues\": null, \"tickformat\": null, \"scale\": \"linear\", \"fontsize\": 10.0, \"grid\": {\"gridOn\": false}, \"visible\": true}, {\"position\": \"left\", \"nticks\": 10, \"tickvalues\": null, \"tickformat\": null, \"scale\": \"linear\", \"fontsize\": 10.0, \"grid\": {\"gridOn\": false}, \"visible\": true}], \"axesbg\": \"#FFFFFF\", \"axesbgalpha\": null, \"zoomable\": true, \"id\": \"el4019139835928285776\", \"lines\": [{\"data\": \"data01\", \"xindex\": 0, \"yindex\": 1, \"coordinates\": \"data\", \"id\": \"el4019139835886284560\", \"color\": \"#1F77B4\", \"linewidth\": 1.5, \"dasharray\": \"none\", \"alpha\": 1, \"zorder\": 2, \"drawstyle\": \"default\"}, {\"data\": \"data01\", \"xindex\": 0, \"yindex\": 2, \"coordinates\": \"data\", \"id\": \"el4019139835886284304\", \"color\": \"#FF7F0E\", \"linewidth\": 1.5, \"dasharray\": \"none\", \"alpha\": 1, \"zorder\": 2, \"drawstyle\": \"default\"}, {\"data\": \"data02\", \"xindex\": 0, \"yindex\": 1, \"coordinates\": \"axes\", \"id\": \"el4019139835886469008\", \"color\": \"#1F77B4\", \"linewidth\": 1.5, \"dasharray\": \"none\", \"alpha\": 1, \"zorder\": 1000002.0, \"drawstyle\": \"default\"}, {\"data\": \"data02\", \"xindex\": 0, \"yindex\": 2, \"coordinates\": \"axes\", \"id\": \"el4019139835886468944\", \"color\": \"#FF7F0E\", \"linewidth\": 1.5, \"dasharray\": \"none\", \"alpha\": 1, \"zorder\": 1000002.0, \"drawstyle\": \"default\"}], \"paths\": [{\"data\": \"data03\", \"xindex\": 0, \"yindex\": 1, \"coordinates\": \"axes\", \"pathcodes\": [\"M\", \"L\", \"S\", \"L\", \"S\", \"L\", \"S\", \"L\", \"S\", \"Z\"], \"id\": \"el4019139835885569488\", \"dasharray\": \"none\", \"alpha\": 0.8, \"facecolor\": \"#FFFFFF\", \"edgecolor\": \"#CCCCCC\", \"edgewidth\": 1.0, \"zorder\": 1000000.0}], \"markers\": [], \"texts\": [{\"text\": \"x\", \"position\": [0.49999999999999994, -0.09657836644591614], \"coordinates\": \"axes\", \"h_anchor\": \"middle\", \"v_baseline\": \"hanging\", \"rotation\": -0.0, \"fontsize\": 10.0, \"color\": \"#000000\", \"alpha\": 1, \"zorder\": 3, \"id\": \"el4019139835892850256\"}, {\"text\": \"y\", \"position\": [-0.1459826762246117, 0.4999999999999999], \"coordinates\": \"axes\", \"h_anchor\": \"middle\", \"v_baseline\": \"auto\", \"rotation\": -90.0, \"fontsize\": 10.0, \"color\": \"#000000\", \"alpha\": 1, \"zorder\": 3, \"id\": \"el4019139835886477712\"}, {\"text\": \"Model(fitter)\", \"position\": [0.49999999999999994, 1.0275938189845473], \"coordinates\": \"axes\", \"h_anchor\": \"middle\", \"v_baseline\": \"auto\", \"rotation\": -0.0, \"fontsize\": 12.0, \"color\": \"#000000\", \"alpha\": 1, \"zorder\": 3, \"id\": \"el4019139835886279312\"}, {\"text\": \"data\", \"position\": [0.11051373954599761, 0.9218175128771156], \"coordinates\": \"axes\", \"h_anchor\": \"start\", \"v_baseline\": \"auto\", \"rotation\": -0.0, \"fontsize\": 10.0, \"color\": \"#000000\", \"alpha\": 1, \"zorder\": 1000003.0, \"id\": \"el4019139835886468368\"}, {\"text\": \"best-fit\", \"position\": [0.11051373954599761, 0.8528329654157469], \"coordinates\": \"axes\", \"h_anchor\": \"start\", \"v_baseline\": \"auto\", \"rotation\": -0.0, \"fontsize\": 10.0, \"color\": \"#000000\", \"alpha\": 1, \"zorder\": 1000003.0, \"id\": \"el4019139835885991056\"}], \"collections\": [], \"images\": [], \"sharex\": [], \"sharey\": []}], \"data\": {\"data01\": [[0.0, 1.0, 1.0], [1.0, 1.0, 1.0475387834813654], [2.0, 1.0, 1.1696651748843336], [3.0, 2.0, 1.3471513809502986], [4.0, 3.0, 1.570873970120499], [5.0, 3.0, 1.8376866170216457], [6.0, 3.0, 2.1481117091549295], [7.0, 3.0, 2.5050684495793396], [8.0, 3.0, 2.9131941876868654], [9.0, 3.0, 3.378508072267676], [10.0, 3.0, 3.908275576538581], [11.0, 3.0, 4.510994417592575], [12.0, 3.0, 5.196457816647936], [13.0, 3.0, 5.975871222490991], [14.0, 3.0, 6.862010178435701], [15.0, 3.0, 7.8694138017153445], [16.0, 3.0, 9.014612407679365], [17.0, 3.0, 10.316389951919561], [18.0, 3.0, 11.79608415107257], [19.0, 3.0, 13.477927878443488], [20.0, 3.0, 15.389436334782804], [21.0, 3.0, 17.56184531638595], [22.0, 3.0, 20.030608505203546], [23.0, 3.0, 22.835957247566622], [24.0, 3.0, 26.023534823185415], [25.0, 3.0, 29.6451115533522], [26.0, 3.0, 33.759391270330084], [27.0, 3.0, 38.43291986580334], [28.0, 3.0, 43.74110830115218], [29.0, 3.0, 49.769382081483286], [30.0, 3.0, 56.61447230410962], [31.0, 3.0, 64.38586341507462], [32.0, 5.0, 73.20741406273424], [33.0, 6.0, 83.21916861883236], [34.0, 28.0, 94.57937841336448], [35.0, 30.0, 107.46675162832713], [36.0, 31.0, 122.08295235845333], [37.0, 34.0, 138.6553688945236], [38.0, 39.0, 157.4401715577227], [39.0, 48.0, 178.72567806956417], [40.0, 63.0, 202.8360464656954], [41.0, 71.0, 230.1353091478154], [42.0, 81.0, 261.03175055468927], [43.0, 91.0, 295.9826639092901], [44.0, 102.0, 335.4994371986545], [45.0, 112.0, 380.1529998850899], [46.0, 126.0, 430.5795911131217], [47.0, 146.0, 487.48681391938646], [48.0, 171.0, 551.6599230869216], [49.0, 198.0, 623.9682790317363], [50.0, 256.0, 705.3718694933608], [51.0, 334.0, 796.9277816552833], [52.0, 403.0, 899.7964876447602], [53.0, 497.0, 1015.2477630739825], [54.0, 571.0, 1144.6660530040651], [55.0, 657.0, 1289.5550587377036], [56.0, 730.0, 1451.5413123586052], [57.0, 883.0, 1632.3764886339814], [58.0, 1019.0, 1833.9382042896857], [59.0, 1139.0, 2058.229067332259], [60.0, 1326.0, 2307.3737675891016], [61.0, 1635.0, 2583.6140548683857], [62.0, 2059.0, 2889.301494061412], [63.0, 2545.0, 3226.888007048633], [64.0, 3105.0, 3598.914285854782], [65.0, 3684.0, 4007.9963041669957], [66.0, 4293.0, 4456.810261647371], [67.0, 4777.0, 4948.076413852725], [68.0, 5350.0, 5484.542371161577], [69.0, 5915.0, 6068.966526013062], [70.0, 6728.0, 6704.102298188746], [71.0, 7599.0, 7392.683934159899], [72.0, 8453.0, 8137.41455460822], [73.0, 9211.0, 8940.957015468735], [74.0, 10454.0, 9805.928076293685], [75.0, 11485.0, 10734.8962044176], [76.0, 12371.0, 11730.383097826581], [77.0, 13432.0, 12794.868905068452], [78.0, 14354.0, 13930.800909408175], [79.0, 15725.0, 15140.605265051981], [80.0, 17305.0, 16426.70129103506], [81.0, 18544.0, 17791.51777821397], [82.0, 20081.0, 19237.510640013057], [83.0, 21373.0, 20767.18138310849], [84.0, 23040.0, 22383.095802657328], [85.0, 24448.0, 24087.902452944574], [86.0, 26283.0, 25884.350507532818], [87.0, 27890.0, 27775.30673640214], [88.0, 29458.0, 29763.77143514942], [89.0, 31360.0, 31852.89318654965], [90.0, 33065.0, 34045.98246995633], [91.0, 34866.0, 36346.52422618691], [92.0, 37262.0, 38758.18935221879], [93.0, 39826.0, 41284.8452746213], [94.0, 42778.0, 43930.5659638464], [95.0, 46434.0, 46699.641334504806], [96.0, 49405.0, 49596.58621605349], [97.0, 53007.0, 52626.14911222714], [98.0, 56351.0, 55793.32082228551], [99.0, 59690.0, 59103.343120623744], [100.0, 62865.0, 62561.71760530134], [101.0, 67176.0, 66174.21467264123], [102.0, 70768.0, 69946.8828527992], [103.0, 74330.0, 73886.05857182087], [104.0, 78056.0, 77998.3762683887], [105.0, 82047.0, 82290.77901573131], [106.0, 85855.0, 86770.52971274624], [107.0, 90649.0, 91445.22281289227], [108.0, 95698.0, 96322.79662515273], [109.0, 100326.0, 101411.54634403894], [110.0, 106480.0, 106720.13741757261], [111.0, 112200.0, 112257.62014659014], [112.0, 118223.0, 118033.44443972621], [113.0, 124759.0, 124057.47551617077], [114.0, 131424.0, 130340.01055806936], [115.0, 138537.0, 136891.79577624422], [116.0, 144951.0, 143724.0443960127], [117.0, 150858.0, 150848.45575552658], [118.0, 158104.0, 158277.23521419257], [119.0, 165358.0, 166023.1134819042], [120.0, 173496.0, 174099.36912845355], [121.0, 181860.0, 182519.85218499682]], \"data02\": [[0.026881720430107503, 0.9379139072847682, 0.8689293598233996], [0.08661887694145756, 0.9379139072847682, 0.8689293598233996]], \"data03\": [[0.020908004778972505, 0.8252391464311994], [0.22252090800477894, 0.8252391464311994], [0.22849462365591397, 0.8252391464311994], [0.22849462365591397, 0.834437086092715], [0.22849462365591397, 0.9678072111846947], [0.22849462365591397, 0.9770051508462105], [0.22252090800477894, 0.9770051508462105], [0.020908004778972505, 0.9770051508462105], [0.014934289127837508, 0.9770051508462105], [0.014934289127837508, 0.9678072111846947], [0.014934289127837508, 0.834437086092715], [0.014934289127837508, 0.8252391464311994], [0.020908004778972505, 0.8252391464311994]]}, \"id\": \"el4019139835891523728\", \"plugins\": [{\"type\": \"reset\"}, {\"type\": \"zoom\", \"button\": true, \"enabled\": false}, {\"type\": \"boxzoom\", \"button\": true, \"enabled\": false}]});\n",
       "   }(mpld3);\n",
       "}else if(typeof define === \"function\" && define.amd){\n",
       "   // require.js is available: use it to load d3/mpld3\n",
       "   require.config({paths: {d3: \"https://mpld3.github.io/js/d3.v3.min\"}});\n",
       "   require([\"d3\"], function(d3){\n",
       "      window.d3 = d3;\n",
       "      mpld3_load_lib(\"https://mpld3.github.io/js/mpld3.v0.3.js\", function(){\n",
       "         \n",
       "         mpld3.draw_figure(\"fig_el40191398358915237282839632935\", {\"width\": 432.0, \"height\": 288.0, \"axes\": [{\"bbox\": [0.125, 0.125, 0.775, 0.755], \"xlim\": [-6.050000000000001, 127.05], \"ylim\": [-9124.942609249842, 191645.79479424667], \"xdomain\": [-6.050000000000001, 127.05], \"ydomain\": [-9124.942609249842, 191645.79479424667], \"xscale\": \"linear\", \"yscale\": \"linear\", \"axes\": [{\"position\": \"bottom\", \"nticks\": 9, \"tickvalues\": null, \"tickformat\": null, \"scale\": \"linear\", \"fontsize\": 10.0, \"grid\": {\"gridOn\": false}, \"visible\": true}, {\"position\": \"left\", \"nticks\": 10, \"tickvalues\": null, \"tickformat\": null, \"scale\": \"linear\", \"fontsize\": 10.0, \"grid\": {\"gridOn\": false}, \"visible\": true}], \"axesbg\": \"#FFFFFF\", \"axesbgalpha\": null, \"zoomable\": true, \"id\": \"el4019139835928285776\", \"lines\": [{\"data\": \"data01\", \"xindex\": 0, \"yindex\": 1, \"coordinates\": \"data\", \"id\": \"el4019139835886284560\", \"color\": \"#1F77B4\", \"linewidth\": 1.5, \"dasharray\": \"none\", \"alpha\": 1, \"zorder\": 2, \"drawstyle\": \"default\"}, {\"data\": \"data01\", \"xindex\": 0, \"yindex\": 2, \"coordinates\": \"data\", \"id\": \"el4019139835886284304\", \"color\": \"#FF7F0E\", \"linewidth\": 1.5, \"dasharray\": \"none\", \"alpha\": 1, \"zorder\": 2, \"drawstyle\": \"default\"}, {\"data\": \"data02\", \"xindex\": 0, \"yindex\": 1, \"coordinates\": \"axes\", \"id\": \"el4019139835886469008\", \"color\": \"#1F77B4\", \"linewidth\": 1.5, \"dasharray\": \"none\", \"alpha\": 1, \"zorder\": 1000002.0, \"drawstyle\": \"default\"}, {\"data\": \"data02\", \"xindex\": 0, \"yindex\": 2, \"coordinates\": \"axes\", \"id\": \"el4019139835886468944\", \"color\": \"#FF7F0E\", \"linewidth\": 1.5, \"dasharray\": \"none\", \"alpha\": 1, \"zorder\": 1000002.0, \"drawstyle\": \"default\"}], \"paths\": [{\"data\": \"data03\", \"xindex\": 0, \"yindex\": 1, \"coordinates\": \"axes\", \"pathcodes\": [\"M\", \"L\", \"S\", \"L\", \"S\", \"L\", \"S\", \"L\", \"S\", \"Z\"], \"id\": \"el4019139835885569488\", \"dasharray\": \"none\", \"alpha\": 0.8, \"facecolor\": \"#FFFFFF\", \"edgecolor\": \"#CCCCCC\", \"edgewidth\": 1.0, \"zorder\": 1000000.0}], \"markers\": [], \"texts\": [{\"text\": \"x\", \"position\": [0.49999999999999994, -0.09657836644591614], \"coordinates\": \"axes\", \"h_anchor\": \"middle\", \"v_baseline\": \"hanging\", \"rotation\": -0.0, \"fontsize\": 10.0, \"color\": \"#000000\", \"alpha\": 1, \"zorder\": 3, \"id\": \"el4019139835892850256\"}, {\"text\": \"y\", \"position\": [-0.1459826762246117, 0.4999999999999999], \"coordinates\": \"axes\", \"h_anchor\": \"middle\", \"v_baseline\": \"auto\", \"rotation\": -90.0, \"fontsize\": 10.0, \"color\": \"#000000\", \"alpha\": 1, \"zorder\": 3, \"id\": \"el4019139835886477712\"}, {\"text\": \"Model(fitter)\", \"position\": [0.49999999999999994, 1.0275938189845473], \"coordinates\": \"axes\", \"h_anchor\": \"middle\", \"v_baseline\": \"auto\", \"rotation\": -0.0, \"fontsize\": 12.0, \"color\": \"#000000\", \"alpha\": 1, \"zorder\": 3, \"id\": \"el4019139835886279312\"}, {\"text\": \"data\", \"position\": [0.11051373954599761, 0.9218175128771156], \"coordinates\": \"axes\", \"h_anchor\": \"start\", \"v_baseline\": \"auto\", \"rotation\": -0.0, \"fontsize\": 10.0, \"color\": \"#000000\", \"alpha\": 1, \"zorder\": 1000003.0, \"id\": \"el4019139835886468368\"}, {\"text\": \"best-fit\", \"position\": [0.11051373954599761, 0.8528329654157469], \"coordinates\": \"axes\", \"h_anchor\": \"start\", \"v_baseline\": \"auto\", \"rotation\": -0.0, \"fontsize\": 10.0, \"color\": \"#000000\", \"alpha\": 1, \"zorder\": 1000003.0, \"id\": \"el4019139835885991056\"}], \"collections\": [], \"images\": [], \"sharex\": [], \"sharey\": []}], \"data\": {\"data01\": [[0.0, 1.0, 1.0], [1.0, 1.0, 1.0475387834813654], [2.0, 1.0, 1.1696651748843336], [3.0, 2.0, 1.3471513809502986], [4.0, 3.0, 1.570873970120499], [5.0, 3.0, 1.8376866170216457], [6.0, 3.0, 2.1481117091549295], [7.0, 3.0, 2.5050684495793396], [8.0, 3.0, 2.9131941876868654], [9.0, 3.0, 3.378508072267676], [10.0, 3.0, 3.908275576538581], [11.0, 3.0, 4.510994417592575], [12.0, 3.0, 5.196457816647936], [13.0, 3.0, 5.975871222490991], [14.0, 3.0, 6.862010178435701], [15.0, 3.0, 7.8694138017153445], [16.0, 3.0, 9.014612407679365], [17.0, 3.0, 10.316389951919561], [18.0, 3.0, 11.79608415107257], [19.0, 3.0, 13.477927878443488], [20.0, 3.0, 15.389436334782804], [21.0, 3.0, 17.56184531638595], [22.0, 3.0, 20.030608505203546], [23.0, 3.0, 22.835957247566622], [24.0, 3.0, 26.023534823185415], [25.0, 3.0, 29.6451115533522], [26.0, 3.0, 33.759391270330084], [27.0, 3.0, 38.43291986580334], [28.0, 3.0, 43.74110830115218], [29.0, 3.0, 49.769382081483286], [30.0, 3.0, 56.61447230410962], [31.0, 3.0, 64.38586341507462], [32.0, 5.0, 73.20741406273424], [33.0, 6.0, 83.21916861883236], [34.0, 28.0, 94.57937841336448], [35.0, 30.0, 107.46675162832713], [36.0, 31.0, 122.08295235845333], [37.0, 34.0, 138.6553688945236], [38.0, 39.0, 157.4401715577227], [39.0, 48.0, 178.72567806956417], [40.0, 63.0, 202.8360464656954], [41.0, 71.0, 230.1353091478154], [42.0, 81.0, 261.03175055468927], [43.0, 91.0, 295.9826639092901], [44.0, 102.0, 335.4994371986545], [45.0, 112.0, 380.1529998850899], [46.0, 126.0, 430.5795911131217], [47.0, 146.0, 487.48681391938646], [48.0, 171.0, 551.6599230869216], [49.0, 198.0, 623.9682790317363], [50.0, 256.0, 705.3718694933608], [51.0, 334.0, 796.9277816552833], [52.0, 403.0, 899.7964876447602], [53.0, 497.0, 1015.2477630739825], [54.0, 571.0, 1144.6660530040651], [55.0, 657.0, 1289.5550587377036], [56.0, 730.0, 1451.5413123586052], [57.0, 883.0, 1632.3764886339814], [58.0, 1019.0, 1833.9382042896857], [59.0, 1139.0, 2058.229067332259], [60.0, 1326.0, 2307.3737675891016], [61.0, 1635.0, 2583.6140548683857], [62.0, 2059.0, 2889.301494061412], [63.0, 2545.0, 3226.888007048633], [64.0, 3105.0, 3598.914285854782], [65.0, 3684.0, 4007.9963041669957], [66.0, 4293.0, 4456.810261647371], [67.0, 4777.0, 4948.076413852725], [68.0, 5350.0, 5484.542371161577], [69.0, 5915.0, 6068.966526013062], [70.0, 6728.0, 6704.102298188746], [71.0, 7599.0, 7392.683934159899], [72.0, 8453.0, 8137.41455460822], [73.0, 9211.0, 8940.957015468735], [74.0, 10454.0, 9805.928076293685], [75.0, 11485.0, 10734.8962044176], [76.0, 12371.0, 11730.383097826581], [77.0, 13432.0, 12794.868905068452], [78.0, 14354.0, 13930.800909408175], [79.0, 15725.0, 15140.605265051981], [80.0, 17305.0, 16426.70129103506], [81.0, 18544.0, 17791.51777821397], [82.0, 20081.0, 19237.510640013057], [83.0, 21373.0, 20767.18138310849], [84.0, 23040.0, 22383.095802657328], [85.0, 24448.0, 24087.902452944574], [86.0, 26283.0, 25884.350507532818], [87.0, 27890.0, 27775.30673640214], [88.0, 29458.0, 29763.77143514942], [89.0, 31360.0, 31852.89318654965], [90.0, 33065.0, 34045.98246995633], [91.0, 34866.0, 36346.52422618691], [92.0, 37262.0, 38758.18935221879], [93.0, 39826.0, 41284.8452746213], [94.0, 42778.0, 43930.5659638464], [95.0, 46434.0, 46699.641334504806], [96.0, 49405.0, 49596.58621605349], [97.0, 53007.0, 52626.14911222714], [98.0, 56351.0, 55793.32082228551], [99.0, 59690.0, 59103.343120623744], [100.0, 62865.0, 62561.71760530134], [101.0, 67176.0, 66174.21467264123], [102.0, 70768.0, 69946.8828527992], [103.0, 74330.0, 73886.05857182087], [104.0, 78056.0, 77998.3762683887], [105.0, 82047.0, 82290.77901573131], [106.0, 85855.0, 86770.52971274624], [107.0, 90649.0, 91445.22281289227], [108.0, 95698.0, 96322.79662515273], [109.0, 100326.0, 101411.54634403894], [110.0, 106480.0, 106720.13741757261], [111.0, 112200.0, 112257.62014659014], [112.0, 118223.0, 118033.44443972621], [113.0, 124759.0, 124057.47551617077], [114.0, 131424.0, 130340.01055806936], [115.0, 138537.0, 136891.79577624422], [116.0, 144951.0, 143724.0443960127], [117.0, 150858.0, 150848.45575552658], [118.0, 158104.0, 158277.23521419257], [119.0, 165358.0, 166023.1134819042], [120.0, 173496.0, 174099.36912845355], [121.0, 181860.0, 182519.85218499682]], \"data02\": [[0.026881720430107503, 0.9379139072847682, 0.8689293598233996], [0.08661887694145756, 0.9379139072847682, 0.8689293598233996]], \"data03\": [[0.020908004778972505, 0.8252391464311994], [0.22252090800477894, 0.8252391464311994], [0.22849462365591397, 0.8252391464311994], [0.22849462365591397, 0.834437086092715], [0.22849462365591397, 0.9678072111846947], [0.22849462365591397, 0.9770051508462105], [0.22252090800477894, 0.9770051508462105], [0.020908004778972505, 0.9770051508462105], [0.014934289127837508, 0.9770051508462105], [0.014934289127837508, 0.9678072111846947], [0.014934289127837508, 0.834437086092715], [0.014934289127837508, 0.8252391464311994], [0.020908004778972505, 0.8252391464311994]]}, \"id\": \"el4019139835891523728\", \"plugins\": [{\"type\": \"reset\"}, {\"type\": \"zoom\", \"button\": true, \"enabled\": false}, {\"type\": \"boxzoom\", \"button\": true, \"enabled\": false}]});\n",
       "      });\n",
       "    });\n",
       "}else{\n",
       "    // require.js not available: dynamically load d3 & mpld3\n",
       "    mpld3_load_lib(\"https://mpld3.github.io/js/d3.v3.min.js\", function(){\n",
       "         mpld3_load_lib(\"https://mpld3.github.io/js/mpld3.v0.3.js\", function(){\n",
       "                 \n",
       "                 mpld3.draw_figure(\"fig_el40191398358915237282839632935\", {\"width\": 432.0, \"height\": 288.0, \"axes\": [{\"bbox\": [0.125, 0.125, 0.775, 0.755], \"xlim\": [-6.050000000000001, 127.05], \"ylim\": [-9124.942609249842, 191645.79479424667], \"xdomain\": [-6.050000000000001, 127.05], \"ydomain\": [-9124.942609249842, 191645.79479424667], \"xscale\": \"linear\", \"yscale\": \"linear\", \"axes\": [{\"position\": \"bottom\", \"nticks\": 9, \"tickvalues\": null, \"tickformat\": null, \"scale\": \"linear\", \"fontsize\": 10.0, \"grid\": {\"gridOn\": false}, \"visible\": true}, {\"position\": \"left\", \"nticks\": 10, \"tickvalues\": null, \"tickformat\": null, \"scale\": \"linear\", \"fontsize\": 10.0, \"grid\": {\"gridOn\": false}, \"visible\": true}], \"axesbg\": \"#FFFFFF\", \"axesbgalpha\": null, \"zoomable\": true, \"id\": \"el4019139835928285776\", \"lines\": [{\"data\": \"data01\", \"xindex\": 0, \"yindex\": 1, \"coordinates\": \"data\", \"id\": \"el4019139835886284560\", \"color\": \"#1F77B4\", \"linewidth\": 1.5, \"dasharray\": \"none\", \"alpha\": 1, \"zorder\": 2, \"drawstyle\": \"default\"}, {\"data\": \"data01\", \"xindex\": 0, \"yindex\": 2, \"coordinates\": \"data\", \"id\": \"el4019139835886284304\", \"color\": \"#FF7F0E\", \"linewidth\": 1.5, \"dasharray\": \"none\", \"alpha\": 1, \"zorder\": 2, \"drawstyle\": \"default\"}, {\"data\": \"data02\", \"xindex\": 0, \"yindex\": 1, \"coordinates\": \"axes\", \"id\": \"el4019139835886469008\", \"color\": \"#1F77B4\", \"linewidth\": 1.5, \"dasharray\": \"none\", \"alpha\": 1, \"zorder\": 1000002.0, \"drawstyle\": \"default\"}, {\"data\": \"data02\", \"xindex\": 0, \"yindex\": 2, \"coordinates\": \"axes\", \"id\": \"el4019139835886468944\", \"color\": \"#FF7F0E\", \"linewidth\": 1.5, \"dasharray\": \"none\", \"alpha\": 1, \"zorder\": 1000002.0, \"drawstyle\": \"default\"}], \"paths\": [{\"data\": \"data03\", \"xindex\": 0, \"yindex\": 1, \"coordinates\": \"axes\", \"pathcodes\": [\"M\", \"L\", \"S\", \"L\", \"S\", \"L\", \"S\", \"L\", \"S\", \"Z\"], \"id\": \"el4019139835885569488\", \"dasharray\": \"none\", \"alpha\": 0.8, \"facecolor\": \"#FFFFFF\", \"edgecolor\": \"#CCCCCC\", \"edgewidth\": 1.0, \"zorder\": 1000000.0}], \"markers\": [], \"texts\": [{\"text\": \"x\", \"position\": [0.49999999999999994, -0.09657836644591614], \"coordinates\": \"axes\", \"h_anchor\": \"middle\", \"v_baseline\": \"hanging\", \"rotation\": -0.0, \"fontsize\": 10.0, \"color\": \"#000000\", \"alpha\": 1, \"zorder\": 3, \"id\": \"el4019139835892850256\"}, {\"text\": \"y\", \"position\": [-0.1459826762246117, 0.4999999999999999], \"coordinates\": \"axes\", \"h_anchor\": \"middle\", \"v_baseline\": \"auto\", \"rotation\": -90.0, \"fontsize\": 10.0, \"color\": \"#000000\", \"alpha\": 1, \"zorder\": 3, \"id\": \"el4019139835886477712\"}, {\"text\": \"Model(fitter)\", \"position\": [0.49999999999999994, 1.0275938189845473], \"coordinates\": \"axes\", \"h_anchor\": \"middle\", \"v_baseline\": \"auto\", \"rotation\": -0.0, \"fontsize\": 12.0, \"color\": \"#000000\", \"alpha\": 1, \"zorder\": 3, \"id\": \"el4019139835886279312\"}, {\"text\": \"data\", \"position\": [0.11051373954599761, 0.9218175128771156], \"coordinates\": \"axes\", \"h_anchor\": \"start\", \"v_baseline\": \"auto\", \"rotation\": -0.0, \"fontsize\": 10.0, \"color\": \"#000000\", \"alpha\": 1, \"zorder\": 1000003.0, \"id\": \"el4019139835886468368\"}, {\"text\": \"best-fit\", \"position\": [0.11051373954599761, 0.8528329654157469], \"coordinates\": \"axes\", \"h_anchor\": \"start\", \"v_baseline\": \"auto\", \"rotation\": -0.0, \"fontsize\": 10.0, \"color\": \"#000000\", \"alpha\": 1, \"zorder\": 1000003.0, \"id\": \"el4019139835885991056\"}], \"collections\": [], \"images\": [], \"sharex\": [], \"sharey\": []}], \"data\": {\"data01\": [[0.0, 1.0, 1.0], [1.0, 1.0, 1.0475387834813654], [2.0, 1.0, 1.1696651748843336], [3.0, 2.0, 1.3471513809502986], [4.0, 3.0, 1.570873970120499], [5.0, 3.0, 1.8376866170216457], [6.0, 3.0, 2.1481117091549295], [7.0, 3.0, 2.5050684495793396], [8.0, 3.0, 2.9131941876868654], [9.0, 3.0, 3.378508072267676], [10.0, 3.0, 3.908275576538581], [11.0, 3.0, 4.510994417592575], [12.0, 3.0, 5.196457816647936], [13.0, 3.0, 5.975871222490991], [14.0, 3.0, 6.862010178435701], [15.0, 3.0, 7.8694138017153445], [16.0, 3.0, 9.014612407679365], [17.0, 3.0, 10.316389951919561], [18.0, 3.0, 11.79608415107257], [19.0, 3.0, 13.477927878443488], [20.0, 3.0, 15.389436334782804], [21.0, 3.0, 17.56184531638595], [22.0, 3.0, 20.030608505203546], [23.0, 3.0, 22.835957247566622], [24.0, 3.0, 26.023534823185415], [25.0, 3.0, 29.6451115533522], [26.0, 3.0, 33.759391270330084], [27.0, 3.0, 38.43291986580334], [28.0, 3.0, 43.74110830115218], [29.0, 3.0, 49.769382081483286], [30.0, 3.0, 56.61447230410962], [31.0, 3.0, 64.38586341507462], [32.0, 5.0, 73.20741406273424], [33.0, 6.0, 83.21916861883236], [34.0, 28.0, 94.57937841336448], [35.0, 30.0, 107.46675162832713], [36.0, 31.0, 122.08295235845333], [37.0, 34.0, 138.6553688945236], [38.0, 39.0, 157.4401715577227], [39.0, 48.0, 178.72567806956417], [40.0, 63.0, 202.8360464656954], [41.0, 71.0, 230.1353091478154], [42.0, 81.0, 261.03175055468927], [43.0, 91.0, 295.9826639092901], [44.0, 102.0, 335.4994371986545], [45.0, 112.0, 380.1529998850899], [46.0, 126.0, 430.5795911131217], [47.0, 146.0, 487.48681391938646], [48.0, 171.0, 551.6599230869216], [49.0, 198.0, 623.9682790317363], [50.0, 256.0, 705.3718694933608], [51.0, 334.0, 796.9277816552833], [52.0, 403.0, 899.7964876447602], [53.0, 497.0, 1015.2477630739825], [54.0, 571.0, 1144.6660530040651], [55.0, 657.0, 1289.5550587377036], [56.0, 730.0, 1451.5413123586052], [57.0, 883.0, 1632.3764886339814], [58.0, 1019.0, 1833.9382042896857], [59.0, 1139.0, 2058.229067332259], [60.0, 1326.0, 2307.3737675891016], [61.0, 1635.0, 2583.6140548683857], [62.0, 2059.0, 2889.301494061412], [63.0, 2545.0, 3226.888007048633], [64.0, 3105.0, 3598.914285854782], [65.0, 3684.0, 4007.9963041669957], [66.0, 4293.0, 4456.810261647371], [67.0, 4777.0, 4948.076413852725], [68.0, 5350.0, 5484.542371161577], [69.0, 5915.0, 6068.966526013062], [70.0, 6728.0, 6704.102298188746], [71.0, 7599.0, 7392.683934159899], [72.0, 8453.0, 8137.41455460822], [73.0, 9211.0, 8940.957015468735], [74.0, 10454.0, 9805.928076293685], [75.0, 11485.0, 10734.8962044176], [76.0, 12371.0, 11730.383097826581], [77.0, 13432.0, 12794.868905068452], [78.0, 14354.0, 13930.800909408175], [79.0, 15725.0, 15140.605265051981], [80.0, 17305.0, 16426.70129103506], [81.0, 18544.0, 17791.51777821397], [82.0, 20081.0, 19237.510640013057], [83.0, 21373.0, 20767.18138310849], [84.0, 23040.0, 22383.095802657328], [85.0, 24448.0, 24087.902452944574], [86.0, 26283.0, 25884.350507532818], [87.0, 27890.0, 27775.30673640214], [88.0, 29458.0, 29763.77143514942], [89.0, 31360.0, 31852.89318654965], [90.0, 33065.0, 34045.98246995633], [91.0, 34866.0, 36346.52422618691], [92.0, 37262.0, 38758.18935221879], [93.0, 39826.0, 41284.8452746213], [94.0, 42778.0, 43930.5659638464], [95.0, 46434.0, 46699.641334504806], [96.0, 49405.0, 49596.58621605349], [97.0, 53007.0, 52626.14911222714], [98.0, 56351.0, 55793.32082228551], [99.0, 59690.0, 59103.343120623744], [100.0, 62865.0, 62561.71760530134], [101.0, 67176.0, 66174.21467264123], [102.0, 70768.0, 69946.8828527992], [103.0, 74330.0, 73886.05857182087], [104.0, 78056.0, 77998.3762683887], [105.0, 82047.0, 82290.77901573131], [106.0, 85855.0, 86770.52971274624], [107.0, 90649.0, 91445.22281289227], [108.0, 95698.0, 96322.79662515273], [109.0, 100326.0, 101411.54634403894], [110.0, 106480.0, 106720.13741757261], [111.0, 112200.0, 112257.62014659014], [112.0, 118223.0, 118033.44443972621], [113.0, 124759.0, 124057.47551617077], [114.0, 131424.0, 130340.01055806936], [115.0, 138537.0, 136891.79577624422], [116.0, 144951.0, 143724.0443960127], [117.0, 150858.0, 150848.45575552658], [118.0, 158104.0, 158277.23521419257], [119.0, 165358.0, 166023.1134819042], [120.0, 173496.0, 174099.36912845355], [121.0, 181860.0, 182519.85218499682]], \"data02\": [[0.026881720430107503, 0.9379139072847682, 0.8689293598233996], [0.08661887694145756, 0.9379139072847682, 0.8689293598233996]], \"data03\": [[0.020908004778972505, 0.8252391464311994], [0.22252090800477894, 0.8252391464311994], [0.22849462365591397, 0.8252391464311994], [0.22849462365591397, 0.834437086092715], [0.22849462365591397, 0.9678072111846947], [0.22849462365591397, 0.9770051508462105], [0.22252090800477894, 0.9770051508462105], [0.020908004778972505, 0.9770051508462105], [0.014934289127837508, 0.9770051508462105], [0.014934289127837508, 0.9678072111846947], [0.014934289127837508, 0.834437086092715], [0.014934289127837508, 0.8252391464311994], [0.020908004778972505, 0.8252391464311994]]}, \"id\": \"el4019139835891523728\", \"plugins\": [{\"type\": \"reset\"}, {\"type\": \"zoom\", \"button\": true, \"enabled\": false}, {\"type\": \"boxzoom\", \"button\": true, \"enabled\": false}]});\n",
       "            })\n",
       "         });\n",
       "}\n",
       "</script>"
      ],
      "text/plain": [
       "<Figure size 432x288 with 1 Axes>"
      ]
     },
     "metadata": {
      "needs_background": "light"
     },
     "output_type": "display_data"
    }
   ],
   "source": [
    "result.plot_fit(datafmt=\"-\");"
   ]
  },
  {
   "cell_type": "code",
   "execution_count": 114,
   "metadata": {},
   "outputs": [
    {
     "data": {
      "text/plain": [
       "{'R_0_start': 2.9484331494959855,\n",
       " 'k': 0.10045912065563693,\n",
       " 'x0': 72.27642742662388,\n",
       " 'R_0_end': 1.5188625428253977}"
      ]
     },
     "execution_count": 114,
     "metadata": {},
     "output_type": "execute_result"
    }
   ],
   "source": [
    "result.best_values"
   ]
  },
  {
   "cell_type": "code",
   "execution_count": 115,
   "metadata": {},
   "outputs": [],
   "source": [
    "pred=Model(130,**result.best_values)"
   ]
  },
  {
   "cell_type": "code",
   "execution_count": 100,
   "metadata": {},
   "outputs": [
    {
     "name": "stdout",
     "output_type": "stream",
     "text": [
      "[191299.00637318 200451.89298469 209994.21788225 219942.35727656\n",
      " 230313.38586528 241125.10613994]\n"
     ]
    }
   ],
   "source": [
    "pred_total=(pred[2][122:128]+pred[3][122:128]+pred[4][122:128])\n",
    "print(pred_total)"
   ]
  },
  {
   "cell_type": "code",
   "execution_count": 101,
   "metadata": {},
   "outputs": [
    {
     "name": "stdout",
     "output_type": "stream",
     "text": [
      "[190648 198371 207186 216875 226722 236184]\n"
     ]
    }
   ],
   "source": [
    "act_total=np.array([190648,198371,207186,216875,226722,236184])\n",
    "print(act_total)"
   ]
  },
  {
   "cell_type": "code",
   "execution_count": 102,
   "metadata": {},
   "outputs": [],
   "source": [
    "mse=((pred_total-act_total)**2).mean()"
   ]
  },
  {
   "cell_type": "code",
   "execution_count": 103,
   "metadata": {},
   "outputs": [
    {
     "name": "stdout",
     "output_type": "stream",
     "text": [
      "9893545.927904224\n"
     ]
    }
   ],
   "source": [
    "print(mse)"
   ]
  },
  {
   "cell_type": "markdown",
   "metadata": {},
   "source": [
    "### Model Predictions:\n",
    "\n",
    "* 31 May: 191299\n",
    "* 1 June: 200451\n",
    "* 2 June: 209994\n",
    "* 3 June: 219942\n",
    "* 4 June: 230313\n",
    "* 5 June: 241125"
   ]
  },
  {
   "cell_type": "markdown",
   "metadata": {},
   "source": [
    "### Actual Total Cases:\n",
    "\n",
    "* 31 May: 190648\n",
    "* 1 June: 198371\n",
    "* 2 June: 207186\n",
    "* 3 June: 216875\n",
    "* 4 June: 226722\n",
    "* 5 June: 236184"
   ]
  },
  {
   "cell_type": "code",
   "execution_count": 122,
   "metadata": {},
   "outputs": [
    {
     "data": {
      "image/png": "[encoded data removed]",
      "text/html": [
       "\n",
       "\n",
       "<style>\n",
       "\n",
       "</style>\n",
       "\n",
       "<div id=\"fig_el40191398358844018081514821641\"></div>\n",
       "<script>\n",
       "function mpld3_load_lib(url, callback){\n",
       "  var s = document.createElement('script');\n",
       "  s.src = url;\n",
       "  s.async = true;\n",
       "  s.onreadystatechange = s.onload = callback;\n",
       "  s.onerror = function(){console.warn(\"failed to load library \" + url);};\n",
       "  document.getElementsByTagName(\"head\")[0].appendChild(s);\n",
       "}\n",
       "\n",
       "if(typeof(mpld3) !== \"undefined\" && mpld3._mpld3IsLoaded){\n",
       "   // already loaded: just create the figure\n",
       "   !function(mpld3){\n",
       "       \n",
       "       mpld3.draw_figure(\"fig_el40191398358844018081514821641\", {\"width\": 432.0, \"height\": 288.0, \"axes\": [{\"bbox\": [0.125, 0.125, 0.775, 0.755], \"xlim\": [-0.25, 5.25], \"ylim\": [188124.144693003, 243648.96144693697], \"xdomain\": [-0.25, 5.25], \"ydomain\": [188124.144693003, 243648.96144693697], \"xscale\": \"linear\", \"yscale\": \"linear\", \"axes\": [{\"position\": \"bottom\", \"nticks\": 8, \"tickvalues\": null, \"tickformat\": null, \"scale\": \"linear\", \"fontsize\": 10.0, \"grid\": {\"gridOn\": false}, \"visible\": true}, {\"position\": \"left\", \"nticks\": 8, \"tickvalues\": null, \"tickformat\": null, \"scale\": \"linear\", \"fontsize\": 10.0, \"grid\": {\"gridOn\": false}, \"visible\": true}], \"axesbg\": \"#FFFFFF\", \"axesbgalpha\": null, \"zoomable\": true, \"id\": \"el4019139835884364240\", \"lines\": [], \"paths\": [], \"markers\": [{\"data\": \"data01\", \"xindex\": 0, \"yindex\": 1, \"coordinates\": \"data\", \"id\": \"el4019139835884049872pts\", \"facecolor\": \"#FF0000\", \"edgecolor\": \"#FF0000\", \"edgewidth\": 1.0, \"alpha\": 1, \"zorder\": 2, \"markerpath\": [[[0.0, 3.0], [0.7956093000000001, 3.0], [1.5587396123545605, 2.683901074764725], [2.121320343559643, 2.121320343559643], [2.683901074764725, 1.5587396123545605], [3.0, 0.7956093000000001], [3.0, 0.0], [3.0, -0.7956093000000001], [2.683901074764725, -1.5587396123545605], [2.121320343559643, -2.121320343559643], [1.5587396123545605, -2.683901074764725], [0.7956093000000001, -3.0], [0.0, -3.0], [-0.7956093000000001, -3.0], [-1.5587396123545605, -2.683901074764725], [-2.121320343559643, -2.121320343559643], [-2.683901074764725, -1.5587396123545605], [-3.0, -0.7956093000000001], [-3.0, 0.0], [-3.0, 0.7956093000000001], [-2.683901074764725, 1.5587396123545605], [-2.121320343559643, 2.121320343559643], [-1.5587396123545605, 2.683901074764725], [-0.7956093000000001, 3.0], [0.0, 3.0]], [\"M\", \"C\", \"C\", \"C\", \"C\", \"C\", \"C\", \"C\", \"C\", \"Z\"]]}, {\"data\": \"data01\", \"xindex\": 0, \"yindex\": 2, \"coordinates\": \"data\", \"id\": \"el4019139835884051344pts\", \"facecolor\": \"#0000FF\", \"edgecolor\": \"#0000FF\", \"edgewidth\": 1.0, \"alpha\": 1, \"zorder\": 2, \"markerpath\": [[[0.0, 3.0], [0.7956093000000001, 3.0], [1.5587396123545605, 2.683901074764725], [2.121320343559643, 2.121320343559643], [2.683901074764725, 1.5587396123545605], [3.0, 0.7956093000000001], [3.0, 0.0], [3.0, -0.7956093000000001], [2.683901074764725, -1.5587396123545605], [2.121320343559643, -2.121320343559643], [1.5587396123545605, -2.683901074764725], [0.7956093000000001, -3.0], [0.0, -3.0], [-0.7956093000000001, -3.0], [-1.5587396123545605, -2.683901074764725], [-2.121320343559643, -2.121320343559643], [-2.683901074764725, -1.5587396123545605], [-3.0, -0.7956093000000001], [-3.0, 0.0], [-3.0, 0.7956093000000001], [-2.683901074764725, 1.5587396123545605], [-2.121320343559643, 2.121320343559643], [-1.5587396123545605, 2.683901074764725], [-0.7956093000000001, 3.0], [0.0, 3.0]], [\"M\", \"C\", \"C\", \"C\", \"C\", \"C\", \"C\", \"C\", \"C\", \"Z\"]]}], \"texts\": [{\"text\": \"Days: 31 May to 5 June\", \"position\": [0.49999999999999994, -0.09657836644591614], \"coordinates\": \"axes\", \"h_anchor\": \"middle\", \"v_baseline\": \"hanging\", \"rotation\": -0.0, \"fontsize\": 10.0, \"color\": \"#000000\", \"alpha\": 1, \"zorder\": 3, \"id\": \"el4019139835884315152\"}, {\"text\": \"Total Confirmed Cases\", \"position\": [-0.14560931899641577, 0.4999999999999999], \"coordinates\": \"axes\", \"h_anchor\": \"middle\", \"v_baseline\": \"auto\", \"rotation\": -90.0, \"fontsize\": 10.0, \"color\": \"#000000\", \"alpha\": 1, \"zorder\": 3, \"id\": \"el4019139835884316048\"}, {\"text\": \"Comparison of Actual and Predicted Total Confirmed Cases\", \"position\": [0.49999999999999994, 1.0275938189845473], \"coordinates\": \"axes\", \"h_anchor\": \"middle\", \"v_baseline\": \"auto\", \"rotation\": -0.0, \"fontsize\": 12.0, \"color\": \"#000000\", \"alpha\": 1, \"zorder\": 3, \"id\": \"el4019139835883968592\"}], \"collections\": [], \"images\": [], \"sharex\": [], \"sharey\": []}], \"data\": {\"data01\": [[0.0, 191299.00637318357, 190648.0], [1.0, 200451.89298469148, 198371.0], [2.0, 209994.21788225163, 207186.0], [3.0, 219942.35727655803, 216875.0], [4.0, 230313.38586528343, 226722.0], [5.0, 241125.10613993998, 236184.0]]}, \"id\": \"el4019139835884401808\", \"plugins\": [{\"type\": \"reset\"}, {\"type\": \"zoom\", \"button\": true, \"enabled\": false}, {\"type\": \"boxzoom\", \"button\": true, \"enabled\": false}]});\n",
       "   }(mpld3);\n",
       "}else if(typeof define === \"function\" && define.amd){\n",
       "   // require.js is available: use it to load d3/mpld3\n",
       "   require.config({paths: {d3: \"https://mpld3.github.io/js/d3.v3.min\"}});\n",
       "   require([\"d3\"], function(d3){\n",
       "      window.d3 = d3;\n",
       "      mpld3_load_lib(\"https://mpld3.github.io/js/mpld3.v0.3.js\", function(){\n",
       "         \n",
       "         mpld3.draw_figure(\"fig_el40191398358844018081514821641\", {\"width\": 432.0, \"height\": 288.0, \"axes\": [{\"bbox\": [0.125, 0.125, 0.775, 0.755], \"xlim\": [-0.25, 5.25], \"ylim\": [188124.144693003, 243648.96144693697], \"xdomain\": [-0.25, 5.25], \"ydomain\": [188124.144693003, 243648.96144693697], \"xscale\": \"linear\", \"yscale\": \"linear\", \"axes\": [{\"position\": \"bottom\", \"nticks\": 8, \"tickvalues\": null, \"tickformat\": null, \"scale\": \"linear\", \"fontsize\": 10.0, \"grid\": {\"gridOn\": false}, \"visible\": true}, {\"position\": \"left\", \"nticks\": 8, \"tickvalues\": null, \"tickformat\": null, \"scale\": \"linear\", \"fontsize\": 10.0, \"grid\": {\"gridOn\": false}, \"visible\": true}], \"axesbg\": \"#FFFFFF\", \"axesbgalpha\": null, \"zoomable\": true, \"id\": \"el4019139835884364240\", \"lines\": [], \"paths\": [], \"markers\": [{\"data\": \"data01\", \"xindex\": 0, \"yindex\": 1, \"coordinates\": \"data\", \"id\": \"el4019139835884049872pts\", \"facecolor\": \"#FF0000\", \"edgecolor\": \"#FF0000\", \"edgewidth\": 1.0, \"alpha\": 1, \"zorder\": 2, \"markerpath\": [[[0.0, 3.0], [0.7956093000000001, 3.0], [1.5587396123545605, 2.683901074764725], [2.121320343559643, 2.121320343559643], [2.683901074764725, 1.5587396123545605], [3.0, 0.7956093000000001], [3.0, 0.0], [3.0, -0.7956093000000001], [2.683901074764725, -1.5587396123545605], [2.121320343559643, -2.121320343559643], [1.5587396123545605, -2.683901074764725], [0.7956093000000001, -3.0], [0.0, -3.0], [-0.7956093000000001, -3.0], [-1.5587396123545605, -2.683901074764725], [-2.121320343559643, -2.121320343559643], [-2.683901074764725, -1.5587396123545605], [-3.0, -0.7956093000000001], [-3.0, 0.0], [-3.0, 0.7956093000000001], [-2.683901074764725, 1.5587396123545605], [-2.121320343559643, 2.121320343559643], [-1.5587396123545605, 2.683901074764725], [-0.7956093000000001, 3.0], [0.0, 3.0]], [\"M\", \"C\", \"C\", \"C\", \"C\", \"C\", \"C\", \"C\", \"C\", \"Z\"]]}, {\"data\": \"data01\", \"xindex\": 0, \"yindex\": 2, \"coordinates\": \"data\", \"id\": \"el4019139835884051344pts\", \"facecolor\": \"#0000FF\", \"edgecolor\": \"#0000FF\", \"edgewidth\": 1.0, \"alpha\": 1, \"zorder\": 2, \"markerpath\": [[[0.0, 3.0], [0.7956093000000001, 3.0], [1.5587396123545605, 2.683901074764725], [2.121320343559643, 2.121320343559643], [2.683901074764725, 1.5587396123545605], [3.0, 0.7956093000000001], [3.0, 0.0], [3.0, -0.7956093000000001], [2.683901074764725, -1.5587396123545605], [2.121320343559643, -2.121320343559643], [1.5587396123545605, -2.683901074764725], [0.7956093000000001, -3.0], [0.0, -3.0], [-0.7956093000000001, -3.0], [-1.5587396123545605, -2.683901074764725], [-2.121320343559643, -2.121320343559643], [-2.683901074764725, -1.5587396123545605], [-3.0, -0.7956093000000001], [-3.0, 0.0], [-3.0, 0.7956093000000001], [-2.683901074764725, 1.5587396123545605], [-2.121320343559643, 2.121320343559643], [-1.5587396123545605, 2.683901074764725], [-0.7956093000000001, 3.0], [0.0, 3.0]], [\"M\", \"C\", \"C\", \"C\", \"C\", \"C\", \"C\", \"C\", \"C\", \"Z\"]]}], \"texts\": [{\"text\": \"Days: 31 May to 5 June\", \"position\": [0.49999999999999994, -0.09657836644591614], \"coordinates\": \"axes\", \"h_anchor\": \"middle\", \"v_baseline\": \"hanging\", \"rotation\": -0.0, \"fontsize\": 10.0, \"color\": \"#000000\", \"alpha\": 1, \"zorder\": 3, \"id\": \"el4019139835884315152\"}, {\"text\": \"Total Confirmed Cases\", \"position\": [-0.14560931899641577, 0.4999999999999999], \"coordinates\": \"axes\", \"h_anchor\": \"middle\", \"v_baseline\": \"auto\", \"rotation\": -90.0, \"fontsize\": 10.0, \"color\": \"#000000\", \"alpha\": 1, \"zorder\": 3, \"id\": \"el4019139835884316048\"}, {\"text\": \"Comparison of Actual and Predicted Total Confirmed Cases\", \"position\": [0.49999999999999994, 1.0275938189845473], \"coordinates\": \"axes\", \"h_anchor\": \"middle\", \"v_baseline\": \"auto\", \"rotation\": -0.0, \"fontsize\": 12.0, \"color\": \"#000000\", \"alpha\": 1, \"zorder\": 3, \"id\": \"el4019139835883968592\"}], \"collections\": [], \"images\": [], \"sharex\": [], \"sharey\": []}], \"data\": {\"data01\": [[0.0, 191299.00637318357, 190648.0], [1.0, 200451.89298469148, 198371.0], [2.0, 209994.21788225163, 207186.0], [3.0, 219942.35727655803, 216875.0], [4.0, 230313.38586528343, 226722.0], [5.0, 241125.10613993998, 236184.0]]}, \"id\": \"el4019139835884401808\", \"plugins\": [{\"type\": \"reset\"}, {\"type\": \"zoom\", \"button\": true, \"enabled\": false}, {\"type\": \"boxzoom\", \"button\": true, \"enabled\": false}]});\n",
       "      });\n",
       "    });\n",
       "}else{\n",
       "    // require.js not available: dynamically load d3 & mpld3\n",
       "    mpld3_load_lib(\"https://mpld3.github.io/js/d3.v3.min.js\", function(){\n",
       "         mpld3_load_lib(\"https://mpld3.github.io/js/mpld3.v0.3.js\", function(){\n",
       "                 \n",
       "                 mpld3.draw_figure(\"fig_el40191398358844018081514821641\", {\"width\": 432.0, \"height\": 288.0, \"axes\": [{\"bbox\": [0.125, 0.125, 0.775, 0.755], \"xlim\": [-0.25, 5.25], \"ylim\": [188124.144693003, 243648.96144693697], \"xdomain\": [-0.25, 5.25], \"ydomain\": [188124.144693003, 243648.96144693697], \"xscale\": \"linear\", \"yscale\": \"linear\", \"axes\": [{\"position\": \"bottom\", \"nticks\": 8, \"tickvalues\": null, \"tickformat\": null, \"scale\": \"linear\", \"fontsize\": 10.0, \"grid\": {\"gridOn\": false}, \"visible\": true}, {\"position\": \"left\", \"nticks\": 8, \"tickvalues\": null, \"tickformat\": null, \"scale\": \"linear\", \"fontsize\": 10.0, \"grid\": {\"gridOn\": false}, \"visible\": true}], \"axesbg\": \"#FFFFFF\", \"axesbgalpha\": null, \"zoomable\": true, \"id\": \"el4019139835884364240\", \"lines\": [], \"paths\": [], \"markers\": [{\"data\": \"data01\", \"xindex\": 0, \"yindex\": 1, \"coordinates\": \"data\", \"id\": \"el4019139835884049872pts\", \"facecolor\": \"#FF0000\", \"edgecolor\": \"#FF0000\", \"edgewidth\": 1.0, \"alpha\": 1, \"zorder\": 2, \"markerpath\": [[[0.0, 3.0], [0.7956093000000001, 3.0], [1.5587396123545605, 2.683901074764725], [2.121320343559643, 2.121320343559643], [2.683901074764725, 1.5587396123545605], [3.0, 0.7956093000000001], [3.0, 0.0], [3.0, -0.7956093000000001], [2.683901074764725, -1.5587396123545605], [2.121320343559643, -2.121320343559643], [1.5587396123545605, -2.683901074764725], [0.7956093000000001, -3.0], [0.0, -3.0], [-0.7956093000000001, -3.0], [-1.5587396123545605, -2.683901074764725], [-2.121320343559643, -2.121320343559643], [-2.683901074764725, -1.5587396123545605], [-3.0, -0.7956093000000001], [-3.0, 0.0], [-3.0, 0.7956093000000001], [-2.683901074764725, 1.5587396123545605], [-2.121320343559643, 2.121320343559643], [-1.5587396123545605, 2.683901074764725], [-0.7956093000000001, 3.0], [0.0, 3.0]], [\"M\", \"C\", \"C\", \"C\", \"C\", \"C\", \"C\", \"C\", \"C\", \"Z\"]]}, {\"data\": \"data01\", \"xindex\": 0, \"yindex\": 2, \"coordinates\": \"data\", \"id\": \"el4019139835884051344pts\", \"facecolor\": \"#0000FF\", \"edgecolor\": \"#0000FF\", \"edgewidth\": 1.0, \"alpha\": 1, \"zorder\": 2, \"markerpath\": [[[0.0, 3.0], [0.7956093000000001, 3.0], [1.5587396123545605, 2.683901074764725], [2.121320343559643, 2.121320343559643], [2.683901074764725, 1.5587396123545605], [3.0, 0.7956093000000001], [3.0, 0.0], [3.0, -0.7956093000000001], [2.683901074764725, -1.5587396123545605], [2.121320343559643, -2.121320343559643], [1.5587396123545605, -2.683901074764725], [0.7956093000000001, -3.0], [0.0, -3.0], [-0.7956093000000001, -3.0], [-1.5587396123545605, -2.683901074764725], [-2.121320343559643, -2.121320343559643], [-2.683901074764725, -1.5587396123545605], [-3.0, -0.7956093000000001], [-3.0, 0.0], [-3.0, 0.7956093000000001], [-2.683901074764725, 1.5587396123545605], [-2.121320343559643, 2.121320343559643], [-1.5587396123545605, 2.683901074764725], [-0.7956093000000001, 3.0], [0.0, 3.0]], [\"M\", \"C\", \"C\", \"C\", \"C\", \"C\", \"C\", \"C\", \"C\", \"Z\"]]}], \"texts\": [{\"text\": \"Days: 31 May to 5 June\", \"position\": [0.49999999999999994, -0.09657836644591614], \"coordinates\": \"axes\", \"h_anchor\": \"middle\", \"v_baseline\": \"hanging\", \"rotation\": -0.0, \"fontsize\": 10.0, \"color\": \"#000000\", \"alpha\": 1, \"zorder\": 3, \"id\": \"el4019139835884315152\"}, {\"text\": \"Total Confirmed Cases\", \"position\": [-0.14560931899641577, 0.4999999999999999], \"coordinates\": \"axes\", \"h_anchor\": \"middle\", \"v_baseline\": \"auto\", \"rotation\": -90.0, \"fontsize\": 10.0, \"color\": \"#000000\", \"alpha\": 1, \"zorder\": 3, \"id\": \"el4019139835884316048\"}, {\"text\": \"Comparison of Actual and Predicted Total Confirmed Cases\", \"position\": [0.49999999999999994, 1.0275938189845473], \"coordinates\": \"axes\", \"h_anchor\": \"middle\", \"v_baseline\": \"auto\", \"rotation\": -0.0, \"fontsize\": 12.0, \"color\": \"#000000\", \"alpha\": 1, \"zorder\": 3, \"id\": \"el4019139835883968592\"}], \"collections\": [], \"images\": [], \"sharex\": [], \"sharey\": []}], \"data\": {\"data01\": [[0.0, 191299.00637318357, 190648.0], [1.0, 200451.89298469148, 198371.0], [2.0, 209994.21788225163, 207186.0], [3.0, 219942.35727655803, 216875.0], [4.0, 230313.38586528343, 226722.0], [5.0, 241125.10613993998, 236184.0]]}, \"id\": \"el4019139835884401808\", \"plugins\": [{\"type\": \"reset\"}, {\"type\": \"zoom\", \"button\": true, \"enabled\": false}, {\"type\": \"boxzoom\", \"button\": true, \"enabled\": false}]});\n",
       "            })\n",
       "         });\n",
       "}\n",
       "</script>"
      ],
      "text/plain": [
       "<Figure size 432x288 with 1 Axes>"
      ]
     },
     "metadata": {
      "needs_background": "light"
     },
     "output_type": "display_data"
    }
   ],
   "source": [
    "plt.plot(pred_total,'ro')\n",
    "plt.plot(act_total,'bo')\n",
    "plt.ylabel('Total Confirmed Cases')\n",
    "plt.xlabel(\"Days: 31 May to 5 June\")\n",
    "plt.title(\"Comparison of Actual and Predicted Total Confirmed Cases\")\n",
    "plt.show()"
   ]
  }
 ],
 "metadata": {
  "kernelspec": {
   "display_name": "Python 3",
   "language": "python",
   "name": "python3"
  },
  "language_info": {
   "codemirror_mode": {
    "name": "ipython",
    "version": 3
   },
   "file_extension": ".py",
   "mimetype": "text/x-python",
   "name": "python",
   "nbconvert_exporter": "python",
   "pygments_lexer": "ipython3",
   "version": "3.7.5"
  }
 },
 "nbformat": 4,
 "nbformat_minor": 4
}
